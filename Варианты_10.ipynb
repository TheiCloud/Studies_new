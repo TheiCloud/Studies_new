{
  "nbformat": 4,
  "nbformat_minor": 0,
  "metadata": {
    "colab": {
      "provenance": [],
      "authorship_tag": "ABX9TyMCkBJE2vuEdS2YtwmeaTfX",
      "include_colab_link": true
    },
    "kernelspec": {
      "name": "python3",
      "display_name": "Python 3"
    },
    "language_info": {
      "name": "python"
    }
  },
  "cells": [
    {
      "cell_type": "markdown",
      "metadata": {
        "id": "view-in-github",
        "colab_type": "text"
      },
      "source": [
        "<a href=\"https://colab.research.google.com/github/TheiCloud/Studies_new/blob/main/%D0%92%D0%B0%D1%80%D0%B8%D0%B0%D0%BD%D1%82%D1%8B_10.ipynb\" target=\"_parent\"><img src=\"https://colab.research.google.com/assets/colab-badge.svg\" alt=\"Open In Colab\"/></a>"
      ]
    },
    {
      "cell_type": "markdown",
      "source": [
        "Задание 1\n",
        "\n",
        "## ![image.png](data:image/png;base64,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)"
      ],
      "metadata": {
        "id": "dzYrpOQ3KEHf"
      }
    },
    {
      "cell_type": "markdown",
      "source": [],
      "metadata": {
        "id": "0bs5v8USLpE1"
      }
    },
    {
      "cell_type": "code",
      "source": [
        "b = float(input(\"Enter b: \"))\n",
        "z = (9-(b+2)**2 )/(b**2 + 10*b + 25**3)\n",
        "print(z)\n"
      ],
      "metadata": {
        "colab": {
          "base_uri": "https://localhost:8080/"
        },
        "id": "5ApdbJADLpXr",
        "outputId": "42dcac6a-a6aa-4c10-ab60-f3f67dcc0930"
      },
      "execution_count": null,
      "outputs": [
        {
          "output_type": "stream",
          "name": "stdout",
          "text": [
            "Enter b: 1\n",
            "0.0\n"
          ]
        }
      ]
    },
    {
      "cell_type": "markdown",
      "source": [
        "Задание 2\n",
        "\n",
        "![image.png](data:image/png;base64,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)"
      ],
      "metadata": {
        "id": "v6ixI0M5Mht3"
      }
    },
    {
      "cell_type": "markdown",
      "source": [],
      "metadata": {
        "id": "BnAZXsreMmod"
      }
    },
    {
      "cell_type": "code",
      "source": [
        "import math\n",
        "\n",
        "x = float(input(\"Enter x: \"))\n",
        "w = (( math.log(x**2) ) / ( 1+math.log(x**2) )) + ( (x) / (math.log(x) - 1 ) )\n",
        "print(w)\n"
      ],
      "metadata": {
        "colab": {
          "base_uri": "https://localhost:8080/"
        },
        "id": "mqhMGxAKMm7t",
        "outputId": "c6403350-f9bf-40c6-849d-d57a14b641b3"
      },
      "execution_count": null,
      "outputs": [
        {
          "output_type": "stream",
          "name": "stdout",
          "text": [
            "Enter x: 9\n",
            "8.332010865025305\n"
          ]
        }
      ]
    },
    {
      "cell_type": "markdown",
      "source": [
        " Задание 3.\n",
        " Три сопротивления соединены параллельно. Найдите сопротивление соединения."
      ],
      "metadata": {
        "id": "l2oJ2blLPphy"
      }
    },
    {
      "cell_type": "code",
      "source": [
        "r1 = float(input(\"Enter r1: \"))\n",
        "r3 = float(input(\"Enter r2: \"))\n",
        "r2 = float(input(\"Enter r3: \"))\n",
        "\n",
        "R = (r1*r2*r3)/(r1*r2+r2*r3+r3*r1)\n",
        "print(\"Общее сопротивление при параллельном подключении равно: \", R)\n",
        "\n"
      ],
      "metadata": {
        "colab": {
          "base_uri": "https://localhost:8080/"
        },
        "id": "TAN7KqZTP_qM",
        "outputId": "52626844-154d-4a78-82cb-ca2a6b64f0db"
      },
      "execution_count": null,
      "outputs": [
        {
          "output_type": "stream",
          "name": "stdout",
          "text": [
            "Enter r1: 12\n",
            "Enter r2: 1\n",
            "Enter r3: 2\n",
            "Общее сопротивление при параллельном подключении равно:  0.631578947368421\n"
          ]
        }
      ]
    },
    {
      "cell_type": "markdown",
      "source": [
        "Задание 4. Дано трехзначное число. В нем зачеркнули первую слева цифру и приписали ее справа. Вывести полученное число."
      ],
      "metadata": {
        "id": "fClKVxenSEH2"
      }
    },
    {
      "cell_type": "code",
      "source": [
        "a  = int(input(\"Enter a: \"))\n",
        "print(str(a)[1:] + str(a)[0])"
      ],
      "metadata": {
        "colab": {
          "base_uri": "https://localhost:8080/"
        },
        "id": "oLLiPttGSK9n",
        "outputId": "f0fa0e8e-bf4a-4cf9-ceaa-5a803835b4ac"
      },
      "execution_count": null,
      "outputs": [
        {
          "output_type": "stream",
          "name": "stdout",
          "text": [
            "Enter a: 3222400320100111111\n",
            "2224003201001111113\n"
          ]
        }
      ]
    },
    {
      "cell_type": "markdown",
      "source": [
        "Задание 5. Дано целое число A. Проверить истинность высказывания: «Число A является положительным»."
      ],
      "metadata": {
        "id": "eBgEt2ajTdMt"
      }
    },
    {
      "cell_type": "code",
      "source": [
        "a = int(input(\"Enter a: \"))\n",
        "print(\"yes\") if a > 0 else print(\"No\")\n"
      ],
      "metadata": {
        "colab": {
          "base_uri": "https://localhost:8080/"
        },
        "id": "ZiQkxNJkTkg0",
        "outputId": "2bb3f4fd-6637-43d6-e7e0-e1585a9e870b"
      },
      "execution_count": null,
      "outputs": [
        {
          "output_type": "stream",
          "name": "stdout",
          "text": [
            "Enter a: 0\n",
            "No\n"
          ]
        }
      ]
    },
    {
      "cell_type": "markdown",
      "source": [
        "Задание 1. Для данного вещественного x найти значение следующей функции f, принимающей вещественные значения:\n",
        "![image.png](data:image/png;base64,iVBORw0KGgoAAAANSUhEUgAAAZwAAACBCAYAAAD0fgzIAAAAAXNSR0IArs4c6QAAAARnQU1BAACxjwv8YQUAAAAJcEhZcwAADsMAAA7DAcdvqGQAACUaSURBVHhe7Z0LvJVT+sfX/M1gmjJmzEWNUjGMWy4pRlEkShhlMFKhUUq5ZFKoRKTccpmmlGvp4jaokIyubkMxMkqUijSKxIhmYmbWf30f7zp2x97nnOqc95z2/n0/n/3p7LXf/b7rXe/uedZzWc/6jg84IYQQooL5v+RfIYQQokKRwhFCCJEKUjhCCCFSQQpHCCFEKkjhCCGESAUpHCGEEKkghSOEECIVpHCEEEKkghSOEEKIVJDCEUIIkQpSOEIIIVJBCkcIIUQqSOEIIYRIBSkcIYQQqSCFI4QQIhWkcIQQQqSCFI4QQohUkMIpEJYvX+7Wrl2bvBNCiPTRFtN5zptvvukeeOABV716dXf88ce7X/3qV8knQgiRLrJw8pi//e1vrkePHm6fffaxf6VshBCViSycPOU///mP+93vfudatGjhunfvnrSmz8KFC90TTzzhdtppJ3fKKae4GjVqJJ8IIQoNWTh5yrJly9yKFSvcySefnLSkD3Gju+66y/373/92w4cPdxdffLH717/+lXwqhCg0pHDylPfee89Vq1bN/eQnP0la0uejjz5yF110kRswYICbMGGCmzZtmnvrrbeST4UQhYYUTp6ChfPFF1+473znO0lL+hx88MGudu3a9vcPf/hDt9tuu7mf/vSn9j4f+cc//uEWLFjg1q9fn7SIymbdunXu3XffdatWrTI3s6hcFMPJU4YNG+Zmz57tJk2alLRULuPGjTMFeO655yYt+cOHH37ohgwZ4lauXOm+973vmRWHVXfiiSdWqsIvZP773/+6xx9/3D300EMWN0TZbL/99q5Lly6uQYMGyVEibWTh5CkIuv/7v6rxeBctWuRWr17tzjrrrKQlf/jf//7nzjvvPFvjNHbsWDd+/HjXsWNH1759e/fnP/85OaqwQfgTx0uTKVOmuD59+ri+ffu6kSNHujvuuMOyNHv27GmxTVE5SOGICoXZ/8svv2xp2dttt50lDWyKUb1hwwb32WefJe+qHvfff7974YUXXP/+/W0GDdzrQQcd5C688EL38ccfW1shg1sLQc8YpRHDYxIwatQoUzD77bdf0upcy5Yt3dKlS9306dOTFpE2UjiiwiBLjVnmq6++6u655x53xRVXuOeffz75tGwgzMlwQ4hUNZi5T5482SzJGKuC7373u65Ro0YW09kU4VaWe9yScags7znxu7PPPtv985//dB06dLA0/blz5yafVgyME+vQSFyJYNkwgcnnOGJVRzGcPOXmm292c+bMcY8++mjSUn588MEH7v333zc3CYtKf/zjH1s7rjOEbOPGja2ywbPPPuuefvpp9/3vf9986MQ3EDiZwrk08ME/+eSTll5dFhchAuWdd94x4Yag23vvva39008/NWV3wAEHuF/84hfWtqUwcz/hhBNs1o5w23nnnZNPnPX3nHPOcZdffrkbPHhw0podzkMG38yZM21ssY5w08VxhU8++cQ9+OCDpryx+Fq3bu1OPfXUIqvqlVdesfVOjHFsI3mB8dhxxx1tDRTj8uKLL5qVucMOO9g5eBZUomBygKLcd999rZ3nF+E5k2W4ZMkSO4bzde7c2YLxjzzyiAl3xoHnXhoks9x3333uqaeesufAeZo2bVq0Potzvf3222WyDHm+9DcbjD/xGqpr3Hnnne5HP/qRvf/yyy/dmDFjbJxEJYDCEfnHsGHD/EknnZS8K1/mzZvnBw4c6LfbbjsfBKO1zZo1yzds2NAHYeSDVWJt5cHDDz/sg+D2wZpIWkomKBofBJrffffd/V577eVXrVrlV69e7YOi89tss42/4IILkiO3nCCIfZs2bXwQXv4vf/lL0vo19IH/XsHCS1qywzn69evngxVn/eQ8QRD7o446yu4FghL3Qbn4u+++269Zs8ZPmjTJzt2zZ0//1Vdf2TFBIfnf//73/pJLLvFByfugwHxQAnZcsC59ELQ+KCobS9quvPJK/8UXX9h3n3nmGR8UjA/Kxwel5IPQt/ZMgkLzrVq1su+eeeaZ1vbmm2/6WrVq+UsvvdQHRWltZWXt2rV+5MiRvmXLlv6YY46xv7kHrn3DDTfYb7ddu3Y5X3w+YMCA5GzfhrHr1q2b9feQQw7x/fv39zfddFPRPYvKQQonT6lIhRO5+OKLfZ06dXywQux6CKDFixf7MINOjthyHnvsMd+1a9fkXdmZPXu2DxaRHzp0qB8yZIifOnWqDzPnTRaMpRGsFxNqKLRMpYgwpD1YmklLdsaNG+eD9WECEoXA2PXu3du+O3r0aDumffv2vm3btvY3IJQR1CjVTAEaZvI+WLTJu6+fT7AuN3oet9xyi50bRR4JlrCvVq2a3UNJoOz2339/UzILFy701113nb/66quzKqiy8vnnn9v1UbD169f3wdpKPtlyUMaMG/cbrCE/ffr05BNRWcillqfkcqmF/+DuueeeK3WNDu6rMKMtcs9kg2QA3CFhhmppz7hatgTcbrht6CN9CxaJCzN+i+MEK8D6xM+V15577llimRyOCQLZ4iy4VyjxkwvuI7qUcsF56tata7GZTMhOO/300811iHsIdxQuryDY3d///ndzB9KWC9xiuKY4BncP90hf5s+f7zp16uROO+00cxsFK8LccxGOwTUWrLikxbnbb7+9qIQQsOgWdxLuRcYSwizfBYVmyQ6cG/cVfQ0KyNxijFVJcJ9hImPjz7O/5pprzLW1uZBUwm+U3yRurzPOOMP97Gc/s3EtyYXK8+X5//KXv0xavg1p0cTYcPuSsABkrOHWFZWDFE6ekkvhEHshVZQ1I7kELD8JfNyk+CLAcoFgRfBQPofA/paCorn22mstJoKA5EXFBOIaDRs2LFKQCH8EXaawzQZxEATOG2+8UaIyDLN0iykQa8oFcQziAQj+4rCokPgKcZxDDz3UsqNIi2YMUTq5FCPxChbHsiD2+uuvt3GHeO8xDhZm6dbHyy67zD7PRS6FQ/wqPuuocEjZbt68uf1OmFigLA877DBL7igNsu9uu+02N2LEiM2q08d9o+joA+PDGKBwUQxAH1FAJcVZmJywnubKK69MWjaG3z6KJVjIFhMjBsU98jt45plncsZ+RAWDwhH5R0kuNVwguH9Ke5VGUFq+Xr16FrshRlAeBEFirpD4CoLcYhMbNmzYqL00Nw6fn3XWWeZOwdVXEmUdj9KuGQnCza6Lu60k1q9f7/fYYw+Lz2SDsQgWkg+KNmvsic85R4Q4COMVCYrB/+AHP7Dxitx4443maiSug0uMeBvuPNxZjFdpEHPCVRcmGvYKk4Pkk9Jh/Igv4W4k/kRMCpdacRjrzGed68X9Z4PvH3fccRbDynxmY8eOtXhbecbxxKahtOgCJC4KLe1VEuG3Y7PHNm3a2CyVLCoI/9nt382FmT2z8fiiH/Q3s41XtHZyMWvWLFezZk1z02AlAH3ORlnHo7RrAhYk7pvDDz/c1uOUBBYV7iP6x75FmeAGi+4gZuXM2NesWZN8+jVUkchso3/Z+kjfI/EYZvxk7P36178uWpSZeVwucLmRVkz2IPfaq1evUp95EPrmWqTKBO7LI4880tx4pEoHhZgc9Q30o/jzzvbit5IN+rN48WKzNDPHA4sHizz+VkX6SOGITSIKJ1xIuIqIX7CgEzcF7i/cSpVF7BtxIGI/CHxcJ/jyEXoI9lxKpzwgLsY1STlmZXtZYhvEUXAZBivOzZgxw+I5uJtuvfVWSxuuU6eOC7N199prr1kMh7RzYj2ULUJ4o4xQ+Cgo4h4cH0HYInz5LIIwpw03FrG32MYr87hs4HbEPYmrjgWVuLNQJKR9M765ID2bscElyD2gcHIpi/IAZYTCf+mllzbqF39z3ei6E5UAZo7IPyoiS2358uW+efPmlhZLKi+umE8//dSHmbKlIJN2SrpreUIGXOfOnc1NUhJBmFjG1PHHH28uk9dff93azz//fL/99tv7QYMG+VdffdXayhNciWSKLViwwLLNfvOb3/gVK1Ykn5bOunXrLAuN/4q4e8g8w8121VVXFbmMGPegIOwYxjkIbEv1DQLVsu4OPPBA37hxY3/EEUf4oLDse/ShSZMm9h3SqBk/+srY0EZaO228cKuRzcZ1eX6MZXG4Pz7neUSWLl3q69ata+PL7w03V1WBLLoGDRqY25B0a1x3I0aMsOy+8s5UFGVnmzBLyR51E1s1f/3rX222zCZs5QUzRFw/uIIIPLMwkSy2bbfd1hY9UisNF1F5QuCYmT6B9WzuogifsbCReyY4zAweCKIz4y3rwsRNBauJhYxYG+3atbNZ/KZk6zF2QUmZZRIUhVlF3bp1c0FRFlkBnI9jOJYFkRxLkkFQNEXWCYtHWWgaFJGtqMda2nXXXc2KIZvt5z//uS0a5RpHH320WWGMK1YNvxWSHRgz3E0sBsVqzQSLsX79+uYCI1uPz7Gs6EuzZs1s/Pk9VJVV/PSDbDoSUOg7SQj8hkiYqcwtOwodZanlKRVZaUAIITYHxXCEEEKkghSOEEKIVJDCEUIIkQpSOEIIIVJBCkcIIUQqSOEIIYRIBSkcIYQQqSCFI4QQIhWkcIQQQqSCFE6AYoZl2UN9U4oycCznFUII8TUFr3CoL0VlXyrhsvkXdaeKQ6Vbdkj86KOPkpbSQdk88cQTbunSpUmLEEIUNgWtcJ5//nl3ww03WPl3iv1NmTLFij9mQul4SqpTpJC9VcoKBSPZkfKPf/xjpZbsF0KIqkLBKhy23WWrXLYNRpmwRwdb3rJpUwTLhsq9+++/v22/W9KWt9lgv3W+P2jQIKtkLIQQhUxBKhzK7FNGHvdZy5YtrQ1lUqtWLfs7ct1111lshz37Nxd2GKQc/CWXXGKl4dOCcvEqBC6EqEoUpMKZOXOm7WHCHiO59m9ZtGiRbafLfjJl2bmxJNjGd/r06bbvSFp89tlnWbfvTQtiWJ9//nnyTgghCkzhLFu2zJ133nm2uRXuMjbPGj58eFZLgCQB3G7NmzdPWr6BrYzZZ4Ztgdl0i21/gQ2p2PSJbYa/+uorawM2uqpXr55tG5wG3M/ChQtd06ZNk5Z04LqrV69248aNc23atLHxFUKISEFtwBZn3SgE9uBHKFerVs12rcyEY0488UQ3f/58UybFdz+ENWvWuKlTp9rukmya2r59ezd69GizLHCjcY24YyNDjGLCwmFvenZfLM6CBQvcxIkTS9zVEthtE/dcSfEk7guBP2nSJNegQYOkteLB/fjII4+4oUOHWnYeMTHuWwghoKAsHBQA2WMoEtxccYvk4qBwli9f7qpXr55V2QDb1Hbs2NG1aNHCXHQIdxTBn/70J3fBBRcUKRtAieC6QyCzRXM2iO+w3S9bBed6oczoW645AufAyho4cKAlK5AllyY1atRwXbp0caeeeqq9Z+tjIYQoAgunkFiyZAnS2g8fPjxp+TaLFy/2QRH5I488MmnJzahRo+x8s2fPTlqyE5SQHXfXXXclLeXLqlWrfN++fX3//v39G2+8kbRWDvSBe3300UeTFiGE8L7gpqCsvdl2221LdDWFcdkoBlMSpEzDJ598Yv/mgnMCGXLZwN1H1lxpL+JH2cCaYJ0QFhAWXLxeZVCZ1xZCVF0KTuG88MILrn79+hbEzwVxHeIspa2dQXlQoaB27dpWVaAkYmwmV+bYjBkzTHkdcsghOV+NGjWyNO5sSoeFq3369LFY0rBhw1y/fv1UWkcIUaUoqKQBYhyNGze2xZ1kUuWKMRBrYe3MypUr3YoVK3LGcVAyCP8nn3zSMrLefvttt2rVKkujJrifCRltDzzwgCm8bNYVZXOIv5QW9yBZgPhTScdRrqd79+6W1r3vvvsmrenRv39/N3jwYMvkI2tPCCGgoCyct956y61du9a1bt26RIFNMsHBBx9sadEokUzee+89N2vWLHPNkQ3GWp6GDRtaOvDkyZOtPE7xc+OeQxFReSCXAsBCOeqooywNu6RXkyZNSlVKBx10kNtvv/3cQw89lLQIIUTlU1AK56WXXnIbNmywcjYlgfvrhBNOsFgP8ZBMZs+ebWVwbr/9dsvGIusNRUBGGxYFLq/iFhHWC+65Dh06lKosygtchrky4oQQojIoGIWDO411M0cccUSZinCyjoVjX3755aTla1hXgsvqpptucrvuuqu14aIjBnPvvfe6unXrWlsmFO9EeZ155plJS8VDrOjLL79M3gkhROVTMAoHVxiC/+KLL05aSoZ1NNdff71ZCYsXL05avxbkBx544EYlcbBaWOyZTZER47n77rutgCdrd9KC0Fxpi0iFECJN8lrh4A6L9ctIEsA6ITZTVoi3sJiTLQaIwWwqxG5YCEp2GZULCgXcjLCp1bWFEPlNXiucBx980JQF7i5cWlgZmRUAysIxxxzjfvvb37rHHnvMstfKCsqGoD0p2JdeemlqsZvKhDRxEilef/11e0/5oOJJF0KIwiWv06LJMqMWGsIewY/S2VwoO8N5KN9SFogZkVJd0nqfiuTmm292c+bMsdTktIgKhyKpJGeQPEFmHu5GufeEEAW1DqeQqAyFI4QQJVEwSQNCCCEqF1k4eYosnIqH0kG4bXEX8iINnbJIJbldcTvGunu4aPlO/C/IOXD78p5zk9VIG1thkO24yy67WPIKi4xJyd9xxx3te5lwfjYP5DiO2W233ZJPvtmeA3cncC1cv7ST6EEGJrFHavbxGe30hexLFkwT/6TPfJ+29evX2zG008Z3imdq0m8qnXP+eF9U4mAMaOO7jAFV23fYYYfkW859+OGHdh+0s+wg8zPGnH7zXfqczVVOZfV4b/QpJrIUh3PhBibBZY899thos0XGHWK/gfPwos+4jLlGjM/Ga9Ev7ps+cF6O5ZjYB77DfXFMbItjGtfwffDBB7ZQne/hks62pQl7erG+j38Zo+JjXxWRwslTpHAqHoQz5Y1YBAxUiogKgdjVhRde+C0hgFB67rnn3IgRI0yIH3vssUXHIKDYGRYl06lTJ9esWTPbX4jdaVkXdvjhh7uLLrrIts6gkgRboFNjL0Lq/9VXX+122mknE+gIUsooUWqoZs2alswxYMAAy75EUD/99NP2OfFNFkWzUSDbWrCA+cUXX7TvnHbaabZQmvJNpPcTy+Q+e/bsaQqBun0sbKYNBYSgRBFy75yXseB806ZNs2tS64/qHGzpQeYoioVyU6xR22effew+uF8STvg+cVCEKlt+tG3b1j6nbyNHjrQ9l8j+JJOUMYvwDM4++2xTvmwhQtJPtm1IWGM3YcIEU+z8jWK89tprrXQUUIbqjjvusHGhLzy7V155xZZKcL+MDf+/+A1Qyuqss86yNpQISoA+ch+UtSKWzLF8xjEkI1GHkcQmFBTPl92FUSx33nmnLeEgo5ZnxP3zrFlwHqHaCUlJKEmeDWN/zTXX2G+mSoPCEflHEAT+pJNOSt6JiiL8R/dBUPjq1av7+fPn+yBw/fjx430QLL5Hjx4+CL3kyG8IM17/hz/8wYfZrA+Czgerw15BIfidd97ZB8Vi5w0KxA8ePJgJoW/evLk/55xzfBBivlevXta2++67+zALt3MGwW7f6927t52LawQBZ/3gdxCsFh8Emb/sssvsO1OnTrVzBGHtgxKxa3NcUKL+2Weftc+6dOli/QD+bdWqlQ/WhPWZ++IaQfHYsZMnT/ZBefigSHxQOL5FixY+KFAfhLSNC8cEoWp9gzC790ERWPuUKVN8mPVb+8MPP+wPOOAA/9prr9k1OD4oD7uP559/3o7huvy+Gb8goH1QPNYe4TPO26hRI//xxx8nrRsTFIGN19y5c62Py5Yt80Fp+bp16xZ9h7Ho16+fHzNmTNEz6t69u52be+J7K1eu9GHSYNuZMC6ZMNY8K8Y+TC7s2QbF5YMStXsLSsiHiYONF8+A87HNCffKbwjoV7BUfevWre09sP1Iy5Yt/YIFC+w94960aVNfp04dHyYZ1lZVUQxHiC2AmS3VJZhBY6kEoeJOOeUUm6kyC8UKKg5uFqwAvkNJJGb+8YVLjo3zOC9VyCmbxHF8h7R+LBCsCiyCJUuW2AwdqOHHmjMsC87D8RROZYZPjT+qbGBJ8H0sIK4D/Iu7CouJmTiWQrS4aI9FaIOQMwsJlxMvjuMa0QXFsdQDpL+sO8O6xl2FSyi6/viXvgGuI77DvdHOLB+rgFk6Vh+V07kGxwflbMdcddVV5obiuow5Y4Dbi/uLYFHFgrt77713VjcT1gCWHlYLVgR95HxBQVhJq+jWwhphgTf9zHw+vPgu36tVq5YbMmSIHcvyiwjWErv7nn766UW/DcYd1xfn5N5wvcYx5l/OxzjgBo3bwwcl4oICNmsSgsy2iib0kb9Za8gYcK9YuEFh23FVFSmcAgMhgNsGU39rfyHQER6VDa4b3C1UF8fddcstt5hAOffcc004ZgNhkfkvZP4d4bzEABCMuLgiCFtiF7jCgHViKKoo0COUZ6J/jBVKBQEG2a6P6wyBx/EQP0OxsV04RWHpS/wc4jG4sRD0VEQn9kC18liNIx6PQmGMeOFiChaDjVP8PFgb5q7KjKMA94XQpaQUbjRAkeMaxM00fPhw6xfggkJZUYCXvmXeXwQhjbsxM74FKLtbb711ozGkb5nniH9ntlF5hJ1/77nnHnMpAs8FVx2fAcfzLOl3jDlx78RzIJ4PFykTB8aO6vFMLjhXVPzE13jP74pJAFvTcz9MJjgWt2tVRgqnwMDfju8XwbC1v5jVI7QqG2amCFNiEsRQ2OKbGA5CCKFSHkTBFGFmzYwZQQ8IYiYTxS2qWNvv/fff30hIlgWEGgKUOAYKBAsmU9kA9w5YGQg8LCwUBoVto6UQYREwyoHF2KNGjTJhiWUQoYQUwXPiRJlwDRQIzzoG8hHeCHRiQij5xx9/3MYIhYWS5fNcMBZYIMXHime1uc+Lklko2mhhEHvDwsy8P6xf4k+XX365jRXxIqwSlHyE42kjZsUkAkXCZCP2FQuP+8ViIhbE/RP7wTrt1auXWZhVmvAjFHlI+EErhpMSffr08UEg+nnz5lksJcxQfZg9+3r16tl25dkYNGiQD4K5yA8PbH+Oj79r165Ji/dz5szxQeBarCWTILx97dq1fdu2be09MR7iK++88469j4TZMFrG4jGZBIvH2q+44oqk5RuI5/BZt27dfFCe/oUXXrD2Dh06+Bo1avgg1O09BOFpxwYB68Nkxi9atMj6EpSTxXOAOATHtGvXzo7hRZyE2FeYuRdtzz5x4sSivgbFZm2Rjh07WpyMsYUJEyb4e++91+IXu+yyiw/C1z/11FP2uweeR6dOnSwuUpwZM2ZYzIXrF4fzBWWUvPM+WKt2b5GgWHy1atUsPpUJ3+G+eX7BEvNB4X7rmKCQrH/8XkaPHm3jEywgHyYPRfdLfIa4zogRI4ra+H9MvA6IpbH1/Z577lkUX4sQF+P3V5WRhSPEFsIMnBcWAK4Q3CLMPqm4wMZ82WAmHf7/bTSjLmmGnTkLBtxSZHiR8QVkPeFWwurLBJcjfSMuko1s14v9ICZBxlbM2spG/D4zbiwOUnh79OhhljSZaZkQy+AYXlgsuIkYgwhxC2JfxH+4t0yIzRCniPtJcV2sLcacGolkahHjYguQaA3E+ygOmXmkjJMlxvcyISaWWcIKyzXTusx2PiAWFxSlWYRkGLLnVvH0eDLKsELIOOPYQw891Nx3mb8DMgGx9GI8jXvMHCPGDDcd1hTZh5lWGs8Ly78qI4UjNgv+I4ivIR6BUMLdgXBAYLFBHy4l4gnZ4DjSoBFoEdpQELhUMon++sxjSacljTimCuNWIZCNu4pYSmTSpEmWKss+TZlEAYdSLA794BVm1RspKtxUvDKVXxR4uML4DjEGYoTAxoQQjy/uFuQ3RFvsC+uMSC3OdE0BKcKkBpMSHuMrKLQYv+vcubO5yIhRoYDoB/3kO9lca7gizznnHHNB8u9tt91mSRVsy447D+VBpXjug3OgICPcH9ct7vYDEg4YM5QOyqQ06Bvnyuwj48nvCJcjSpeU8liAGEUcU8GZ2OCWY7x4xsSeKBRMujbw+2MyMmbMGHtfVdjmykDyt8gj+JG+++67JojKE4QEa3z4D85/rkIGIctaDdaNREFEXIIsIuINQ4cOtThOJggUgr4oDNbhIPyIsyBkmF0jKJjFMgOnnXgD7SgbrodlgyAk6I2AYY0IYGGggEgOIH7AsRzH9+lHPA7IeOKYuLASAYtQRZgzux4/frzFQmjHGkC4EU/AIsCKitlWJBMwI+e3wP2jvOgr2Wx9+vSxmT4xF77LOhcsLTLvuBYbGdI/1gsR8yGZgfOS4YYiRlByrwj8WOkdqwAIkjPmCF+ULH3hOigelDz957nQV67HWBZfHEpchGdEJhljgWXIcfSb3zjWErErYnEIdfrJeps4tlho9JnssgjXZrJBrIa+lAT/N1EUnJNngDXE9ekvCTETJ0603wmJGmToMVb0iwkG94u1R1IB7ffff78pOfoes9u4f2JEjClrfBj7qoAWfuYpFbXwc968ee7kk0+2tFJmh4UMAg3hihIh2IsgQiggPHCfFM8YA2b0CAqUE0IQQU2BV4QVM3uET5zxInwJMhMIJohMii3WC8qFz1AIxcHaIpsLJYCwOeyww751HIqC41Bs9If+o6w4HqWBhUXqL5/RhlCPCgNrBeVH1hhCDkGMBcY5OJ7+k/3F9wBFgGLj/qI1w7UYA/5m3BgDrBuuE8GqIckA8YRwRfFFUIYoa2CscbNxv9wPygprkLFnHLkGlg/3U5z4LBjTOFbR2kLZcX+4CLkGLj2uy/3FMUDwo1wywQpr1aqVvUqC86PcY7/imPJsmUzwHLhvfhscy7VRPii6CP3mWH5zWNIkkkSYwDB5QWHGzMSqgBROnlIRCocfPoKHtF9mr/iZRcVCDAiF07t3b/P9i6oLSoGJGBZHZnaa+AbFcESZwV1DQJxZWdrzFGZxzPZxc+Bfz+ZDz0eYTXPvmhdWTQjUkwrOZKBr167m+pOyyY0UjigT1JDCNMdsRwDmWtBYEeAiwg9NkBR3zRlnnJHVnZRvEH/BZYeriNkzf8cFjqJqQKyEpAOqIODmpMqEyI1canlKebrUiE1QIBH/OAFfFo7iWyZoHQsuVhQEVYkVoWRwVxRfhZ7PENAmuExcgXgDSpagcLZ4hKgciFGRSEAM6rjjjktaRS6kcPKU8lQ4WDTEbwgQAyVbWPdBjavMLJ3yhowvSpccffTRlnkUA7pCiK0TudREqcR0VjKFeDHTJoWzIpUNM3rWRXAtXGlSNkJs/UjhFDBYLqROnn/++VaTKQbiWfvASnlWRSP4i8P+L3GFe0VBggKL8VhMhxHOuiJSsqtC7TQhxOYhhVPAYDUQiyFXHz80G0axcI1y68RKWHNAPn9xMtdZVASsn2ClOQFyfOSjR4+2LCCKMqKAWL8ghNj6UAwnT9nUGE6TJk1M0BObIdOGxXKVBbEiFrlReoQV+fSNRZKsaid+ROopq8/J3hJCbD1I4eQpm6pwbrzxRte3b18rKUIBxC0FK4TYS2lrEliBXjz7jJXurNQnbpRpzfBTpT4Xq9BJKGAlthBi60EutTwF4UyMpqywoJPvIOTLAxQILjA2hMr1IsWXSsTF61zFBAFSsDPvgXbW40BmRV8hxNaBLJw8hbgHFWcJtJeW4YUrjY3DKFlDAUA2iKpMWO9DtV3qZbHZFLGkCIvsWNnNQlTcbkKIrQdZOHkK1YGJcZRlPkGlXNxTbDEc94cnjlJZ5WMolkhyAAUTUTiZULKdxaYkOwghti6kcPIUtg5A2RB4zwZbEz/33HO2mp1qvqQ5Y1XwfubMmRbLoQJwZYBFRnFQqgeTnRarJ3MvbJjFxlNU1RVCbF1oP5w8hUWZWC7EQOJGWJmwxoVSHAT1u3XrVpTmTFYYpevZw74yy5qzBwt7lowdO9bK1GNxsRkVZd9L22tECFE1UQwnjyGbi/Iz1CLDRYWrKhI3n8I1FTfnwpLgOygaBH5VgHU4KBzW5LD98F577ZV8IoTY2pDCyXNwl7ELIxlfKJ3KjH3MnTt3oz3kcZl17NgxefftzymjE7dQFkJs/UjhFAjsXkiV4cqqtswOhrjHWMRJMU5g7Q9VC1AqfD5t2jRz7wHb7FJ2R0pHiPxBSQMFQs2aNSu1tD/12QAFE8FFFmuj8XlUNoBS4nMy1YQQ+YEUjkiFqGiwYiJLly4tcqlFqycT9qXnJYTID+RSE6lRPEYzcODA5K/s4HJr1qyZ7aQohNj6kYUjUgPFQaJABAWUCz7DpSZlI0T+IIUjUoN9dIglYdmgTLB2cikdStdkZrAJIbZ+pHBEKpB1RoJAjNWQIIDSQbEUB8V07LHHJu+EEPmCFI5IhXXr1iV/fQPld4rv4HnfffdZZQTVShMi/5DCEamwyy67uC+++GKj/XmWLFmyUZo0ygaXW2bcBsuIlxBi60dZaiI1SqokgBst25ob0qJ79+6dvBNCbM1I4QghhEgFudSEEEKkghSOEEKIVJDCEUIIkQpSOEIIIVJBCkcIIUQqSOEIIYRIBSkcIYQQqSCFI4QQIhWkcIQQQqSCFI4QQohUkMIRQgiRClI4QgghUkEKRwghRCpI4QghhEgFKRwhhBCpIIUjhBAiFaRwhBBCpIIUjhBCiFSQwhFCCJECzv0/u3XewWMA8HEAAAAASUVORK5CYII=)"
      ],
      "metadata": {
        "id": "2-BPN9STVK0e"
      }
    },
    {
      "cell_type": "code",
      "source": [
        "x = float(input(\"Enter x: \"))\n",
        "f = ( (-1)*x**2 + x - 9) if x>=8 else (1/(x**4 - 6 ))\n",
        "print(f)"
      ],
      "metadata": {
        "colab": {
          "base_uri": "https://localhost:8080/"
        },
        "id": "CqW2xd7FVda1",
        "outputId": "9a82c248-e871-4091-f993-7c7cfc907a87"
      },
      "execution_count": null,
      "outputs": [
        {
          "output_type": "stream",
          "name": "stdout",
          "text": [
            "Enter x: 9\n",
            "-81.0\n"
          ]
        }
      ]
    },
    {
      "cell_type": "markdown",
      "source": [
        "Задание 2. Определить , является ли целое число N четным двузначным числом."
      ],
      "metadata": {
        "id": "-lWRPGhFWJe1"
      }
    },
    {
      "cell_type": "code",
      "source": [
        "n = int(input(\"Enter N: \"))\n",
        "if ( (n%2 == 0) and ((-99 <= n <= -10) or (10 <= n <= 99))) :\n",
        "  print(\"Yes\")\n",
        "else:\n",
        "  print(\"NO\")"
      ],
      "metadata": {
        "colab": {
          "base_uri": "https://localhost:8080/"
        },
        "id": "3m0CQ5vfWW1a",
        "outputId": "7d3ef416-5a97-4c28-f6c6-1eeae48a4807"
      },
      "execution_count": null,
      "outputs": [
        {
          "output_type": "stream",
          "name": "stdout",
          "text": [
            "Enter N: -16\n",
            "Yes\n"
          ]
        }
      ]
    },
    {
      "cell_type": "markdown",
      "source": [
        "Задание 3. Дано число х. Напечатать в порядке возрастания числа sin x, cos x, ln x. Если при каком-либо х некоторые из выражений не имеют смысла, вывести сообщение об этом и сравнивать значения только тех, которые имеют смысл."
      ],
      "metadata": {
        "id": "-PWeSTp_beK_"
      }
    },
    {
      "cell_type": "code",
      "source": [
        "import math\n",
        "x = float(input(\"Enter x: \"))\n",
        "\n",
        "sin = math.sin(x)\n",
        "cos = math.cos(x)\n",
        "if x < 0:\n",
        "  print(\"Логарифм не имеет смысла \", max(sin, cos), min(sin, cos))\n",
        "else:\n",
        "  log = math.log(x)\n",
        "  midle = sin + cos + log - max(sin, cos, log) - min(sin, cos, log)\n",
        "  print(max(sin, cos, log), midle, min(sin, cos, log) )\n"
      ],
      "metadata": {
        "colab": {
          "base_uri": "https://localhost:8080/"
        },
        "id": "uSrfFNn_b06F",
        "outputId": "b8e450a4-6df8-4af4-d337-b7d88f8aaf30"
      },
      "execution_count": null,
      "outputs": [
        {
          "output_type": "stream",
          "name": "stdout",
          "text": [
            "Enter x: -45\n",
            "Логарифм не имеет смысла  0.5253219888177297 -0.8509035245341184\n"
          ]
        }
      ]
    },
    {
      "cell_type": "markdown",
      "source": [
        "Задание 4. Известны площади круга и квадрата. Определить:\n",
        "а) уместится ли круг в квадрате?\n",
        "б) уместится ли квадрат в круге?\n"
      ],
      "metadata": {
        "id": "yMuCS5wK0Gfm"
      }
    },
    {
      "cell_type": "code",
      "source": [
        "sCirle =  float(input(\"Enter square of a cirle: \"))\n",
        "sSquare = float(input(\"Enter area of a square: \"))\n",
        "pi = math.pi\n",
        "\n",
        "side = math.sqrt(sSquare)\n",
        "diametr = 2 * math.sqrt((sCirle/pi))\n",
        "\n",
        "if diametr <= side:\n",
        "  print(\"Круг уместится в квадрате\")\n",
        "else:\n",
        "    print(\"Круг не уместится в квадрате\")\n",
        "\n",
        "diagonalSquare = side * math.sqrt(2)\n",
        "\n",
        "if diagonalSquare <= diametr:\n",
        "  print(\"Квадрат уместится в круге\")\n",
        "else:\n",
        "    print(\"Квадрат не уместится в круге\")\n",
        "\n",
        "\n"
      ],
      "metadata": {
        "colab": {
          "base_uri": "https://localhost:8080/"
        },
        "id": "32T6nJKJ0O_2",
        "outputId": "2bce4114-e080-4da4-e98e-56ce43bbde67"
      },
      "execution_count": null,
      "outputs": [
        {
          "output_type": "stream",
          "name": "stdout",
          "text": [
            "Enter square of a cirle: 23\n",
            "Enter area of a square: 5442\n",
            "Круг уместится в квадрате\n",
            "Квадрат не уместится в круге\n"
          ]
        }
      ]
    },
    {
      "cell_type": "markdown",
      "source": [
        "Задание 5.\n",
        "Поле шахматной доски определяется парой натуральных чисел, каждое из которых не превосходит 8: первое число — номер вертикали (при счете слева направо), второе — номер горизонтали (при счете снизу вверх). Даны натуральные числа a, b, c, d, каждое из которых не превосходит 8.\n",
        "а) на поле (a, b) расположена ладья. Определить, угрожает ли она полю\n",
        "(c,d);\n",
        "б) на поле (a, b) расположен слон. Определить, угрожает ли он полю (c, d);\n",
        "\n",
        "\n"
      ],
      "metadata": {
        "id": "lLzEkW0P5trJ"
      }
    },
    {
      "cell_type": "code",
      "source": [
        "import math\n",
        "a = int(input(\"Enter a: \"))\n",
        "b = int(input(\"Enter b: \"))\n",
        "c = int(input(\"Enter c: \"))\n",
        "d = int(input(\"Enter d: \"))\n",
        "\n",
        "if (a==c) or (b==d):\n",
        "  print(\"а) угрожает\")\n",
        "else:\n",
        "  print(\"a) ne ugroza\")\n",
        "\n",
        "if(math.fabs(a-c)==math.fabs(b-d)):\n",
        "  print(\"b) угрожает\")\n",
        "else:\n",
        "  print(\"b) ne ugroza\")\n"
      ],
      "metadata": {
        "colab": {
          "base_uri": "https://localhost:8080/"
        },
        "id": "8fzNINPy7O-t",
        "outputId": "0b7f1727-6315-43d0-c5c8-30fbf619dcc5"
      },
      "execution_count": null,
      "outputs": [
        {
          "output_type": "stream",
          "name": "stdout",
          "text": [
            "Enter a: 1\n",
            "Enter b: 1\n",
            "Enter c: 3\n",
            "Enter d: 3\n",
            "a) ne ugroza\n",
            "b) угрожает\n"
          ]
        }
      ]
    },
    {
      "cell_type": "markdown",
      "source": [
        "Задание 1.\tСоставить программу-генератор простых чисел, в основу положить формулу 2х2+29 при 0≤х≤28."
      ],
      "metadata": {
        "id": "E2_izInVoXYv"
      }
    },
    {
      "cell_type": "code",
      "source": [
        "import math\n",
        "\n",
        "# Функция для проверки, является ли число простым\n",
        "def is_prime(n):\n",
        "    if n <= 1:\n",
        "        return False\n",
        "    if n == 2:\n",
        "        return True\n",
        "    if n % 2 == 0:\n",
        "        return False\n",
        "    for i in range(3, int(math.sqrt(n)) + 1, 2):\n",
        "        if n % i == 0:\n",
        "            return False\n",
        "    return True\n",
        "\n",
        "# Генерация чисел по формуле и проверка на простоту\n",
        "for x in range(0, 29):\n",
        "    number = 2 * x**2 + 29\n",
        "    if is_prime(number):\n",
        "        print(f\"x = {x}, простое число: {number}\")"
      ],
      "metadata": {
        "id": "qaDYDRqWp4mr",
        "outputId": "c3747355-bfcf-4cf4-bbeb-46855edbdfae",
        "colab": {
          "base_uri": "https://localhost:8080/"
        }
      },
      "execution_count": 1,
      "outputs": [
        {
          "output_type": "stream",
          "name": "stdout",
          "text": [
            "x = 0, простое число: 29\n",
            "x = 1, простое число: 31\n",
            "x = 2, простое число: 37\n",
            "x = 3, простое число: 47\n",
            "x = 4, простое число: 61\n",
            "x = 5, простое число: 79\n",
            "x = 6, простое число: 101\n",
            "x = 7, простое число: 127\n",
            "x = 8, простое число: 157\n",
            "x = 9, простое число: 191\n",
            "x = 10, простое число: 229\n",
            "x = 11, простое число: 271\n",
            "x = 12, простое число: 317\n",
            "x = 13, простое число: 367\n",
            "x = 14, простое число: 421\n",
            "x = 15, простое число: 479\n",
            "x = 16, простое число: 541\n",
            "x = 17, простое число: 607\n",
            "x = 18, простое число: 677\n",
            "x = 19, простое число: 751\n",
            "x = 20, простое число: 829\n",
            "x = 21, простое число: 911\n",
            "x = 22, простое число: 997\n",
            "x = 23, простое число: 1087\n",
            "x = 24, простое число: 1181\n",
            "x = 25, простое число: 1279\n",
            "x = 26, простое число: 1381\n",
            "x = 27, простое число: 1487\n",
            "x = 28, простое число: 1597\n"
          ]
        }
      ]
    },
    {
      "cell_type": "markdown",
      "source": [
        "Задание 2. ![image.png](data:image/png;base64,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)"
      ],
      "metadata": {
        "id": "e-y4onZhqDRT"
      }
    },
    {
      "cell_type": "code",
      "source": [
        "x = float(input(\"Введите значение x: \"))\n",
        "expression1 = (x - 1) * (x - 3) * (x - 7) * (x - 63)\n",
        "expression2 = (x - 2) * (x - 4) * (x - 8) * (x - 64)\n",
        "\n",
        "print(f\"Результат первого выражения: {expression1/expression2}\")"
      ],
      "metadata": {
        "id": "e0_fYmhD9EmG"
      },
      "execution_count": null,
      "outputs": []
    },
    {
      "cell_type": "markdown",
      "source": [
        "Задание 3. ![image.png](data:image/png;base64,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)"
      ],
      "metadata": {
        "id": "x7skph9v9ToN"
      }
    },
    {
      "cell_type": "code",
      "source": [
        "import math\n",
        "#10**(-3)\n",
        "epsilon = 10**(-3)\n",
        "sum_series = 0.0\n",
        "\n",
        "# Начальное значение\n",
        "n = 1\n",
        "\n",
        "while True:\n",
        "    a_n = math.factorial(n) / (3 * (n ** n))\n",
        "    sum_series += a_n\n",
        "    # Проверка условия выхода из цикла\n",
        "    if abs(a_n) < epsilon:\n",
        "        break\n",
        "\n",
        "    # Увеличение n для следующего члена ряда\n",
        "    n += 1\n",
        "\n",
        "print(f\"Сумма ряда с точностью {epsilon}: {sum_series}\")"
      ],
      "metadata": {
        "colab": {
          "base_uri": "https://localhost:8080/"
        },
        "id": "P0q_xiUQ926n",
        "outputId": "6ae6200c-324b-4fe5-abd7-b9db5948ee62"
      },
      "execution_count": null,
      "outputs": [
        {
          "output_type": "stream",
          "name": "stdout",
          "text": [
            "Сумма ряда с точностью 0.001: 0.6261091597622214\n"
          ]
        }
      ]
    },
    {
      "cell_type": "markdown",
      "source": [
        "Задание 4.\tДан набор ненулевых целых чисел; признак его завершения — число 0. Вывести количество чисел в наборе."
      ],
      "metadata": {
        "id": "uRvOxr7a-Nsa"
      }
    },
    {
      "cell_type": "code",
      "source": [
        "count = 0\n",
        "\n",
        "while True:\n",
        "    number = int(input(\"Введите число (0 для завершения): \"))\n",
        "\n",
        "    if number == 0:\n",
        "        break\n",
        "\n",
        "    count += 1\n",
        "\n",
        "print(f\"Количество ненулевых чисел в наборе: {count}\")"
      ],
      "metadata": {
        "id": "3TlhmSKK-t9p"
      },
      "execution_count": null,
      "outputs": []
    },
    {
      "cell_type": "markdown",
      "source": [
        "Задание 1. 1.\tНатуральное число, в записи которого n цифр, называется числом Амстронга, если сумма его цифр, возведенная в степень n, равна самому числу. Найти все числа Амстронга от 1 до k."
      ],
      "metadata": {
        "id": "djP2nGVT-zv8"
      }
    },
    {
      "cell_type": "code",
      "source": [
        "k = int(input(\"Enter k: \"))\n",
        "\n",
        "for j in range (1,k+1):\n",
        "  sum_j = 0;\n",
        "  for i in str(j):\n",
        "    sum_j += int(i);\n",
        "  if j == sum_j**(len(str(j))): print(j)\n",
        "\n"
      ],
      "metadata": {
        "colab": {
          "base_uri": "https://localhost:8080/"
        },
        "id": "_88xmbcENSoQ",
        "outputId": "10bd291e-2520-4eea-b53f-f0f2bd820515"
      },
      "execution_count": null,
      "outputs": [
        {
          "output_type": "stream",
          "name": "stdout",
          "text": [
            "Enter k: 3456789\n",
            "1\n",
            "2\n",
            "3\n",
            "4\n",
            "5\n",
            "6\n",
            "7\n",
            "8\n",
            "9\n",
            "81\n",
            "512\n",
            "2401\n"
          ]
        }
      ]
    },
    {
      "cell_type": "markdown",
      "source": [
        "Задание 2.\tНаписать функцию вычисления суммы факториалов всех нечетных чисел от 1 до 9."
      ],
      "metadata": {
        "id": "uOc78T3IPdhM"
      }
    },
    {
      "cell_type": "code",
      "source": [
        "from math import factorial\n",
        "\n",
        "def sumFactorials_1_9():\n",
        "  sum_f  = 0;\n",
        "  for i in range(1,10):\n",
        "    sum_f += factorial(i)\n",
        "  return sum_f\n",
        "\n",
        "print(sumFactorials_1_9())"
      ],
      "metadata": {
        "colab": {
          "base_uri": "https://localhost:8080/"
        },
        "id": "01PZ7al2PkZb",
        "outputId": "b5e44291-4d8e-40f9-8c3f-638e41311b8a"
      },
      "execution_count": null,
      "outputs": [
        {
          "output_type": "stream",
          "name": "stdout",
          "text": [
            "409113\n"
          ]
        }
      ]
    },
    {
      "cell_type": "markdown",
      "source": [
        "Задание 3. 3.\tДана символьная строка, представляющая собой запись натурального числа в р-ичной системе счисления (2 ≤ р ≤ 9). Составить программу перевода этого числа в десятичную систему счисления , используя рекурсивную подпрограмму."
      ],
      "metadata": {
        "id": "HulTNn6PQHXL"
      }
    },
    {
      "cell_type": "code",
      "source": [
        "def p_to_decimal(s, p, index=0):\n",
        "    if index == len(s):\n",
        "        return 0\n",
        "    return int(s[index]) * (p ** (len(s) - index - 1)) + p_to_decimal(s, p, index + 1)\n",
        "\n",
        "s = input(\"Введите число в p-ичной системе счисления: \")\n",
        "p = int(input(\"Введите основание системы счисления (2 <= p <= 9): \"))\n",
        "\n",
        "if p < 2 or p > 9:\n",
        "    print(\"Основание системы счисления должно быть от 2 до 9.\")\n",
        "else:\n",
        "    decimal_number = p_to_decimal(s, p)\n",
        "    print(f\"Число {s} в {p}-ичной системе счисления равно {decimal_number} в десятичной системе.\")"
      ],
      "metadata": {
        "colab": {
          "base_uri": "https://localhost:8080/"
        },
        "id": "kTuraX_CQNOt",
        "outputId": "4b6a90b3-b249-4683-8e33-970686066e06"
      },
      "execution_count": null,
      "outputs": [
        {
          "output_type": "stream",
          "name": "stdout",
          "text": [
            "Введите число в p-ичной системе счисления: 23456\n",
            "Введите основание системы счисления (2 <= p <= 9): 8\n",
            "Число 23456 в 8-ичной системе счисления равно 10030 в десятичной системе.\n"
          ]
        }
      ]
    }
  ]
}