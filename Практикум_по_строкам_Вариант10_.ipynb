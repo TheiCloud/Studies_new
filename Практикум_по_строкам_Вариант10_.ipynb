{
  "nbformat": 4,
  "nbformat_minor": 0,
  "metadata": {
    "colab": {
      "provenance": [],
      "authorship_tag": "ABX9TyNHem0mqULHXwwPeI+QzKcK",
      "include_colab_link": true
    },
    "kernelspec": {
      "name": "python3",
      "display_name": "Python 3"
    },
    "language_info": {
      "name": "python"
    }
  },
  "cells": [
    {
      "cell_type": "markdown",
      "metadata": {
        "id": "view-in-github",
        "colab_type": "text"
      },
      "source": [
        "<a href=\"https://colab.research.google.com/github/TheiCloud/Studies_new/blob/main/%D0%9F%D1%80%D0%B0%D0%BA%D1%82%D0%B8%D0%BA%D1%83%D0%BC_%D0%BF%D0%BE_%D1%81%D1%82%D1%80%D0%BE%D0%BA%D0%B0%D0%BC_%D0%92%D0%B0%D1%80%D0%B8%D0%B0%D0%BD%D1%8210_.ipynb\" target=\"_parent\"><img src=\"https://colab.research.google.com/assets/colab-badge.svg\" alt=\"Open In Colab\"/></a>"
      ]
    },
    {
      "cell_type": "markdown",
      "source": [
        "1.\tДана последовательность слов. Напечатать все слова, отличные от слова «hello”."
      ],
      "metadata": {
        "id": "Ii2jNDJnjljR"
      }
    },
    {
      "cell_type": "code",
      "execution_count": null,
      "metadata": {
        "colab": {
          "base_uri": "https://localhost:8080/"
        },
        "id": "0mRHDYi2jgds",
        "outputId": "6adfcff0-f5fe-490b-8e77-67971c07076b"
      },
      "outputs": [
        {
          "output_type": "stream",
          "name": "stdout",
          "text": [
            "koyog\n",
            "gm6o6\n",
            "6k6kok\n",
            "fp5p\n"
          ]
        }
      ],
      "source": [
        "s = \"hello koyog gm6o6 6k6kok fp5p\"\n",
        "\n",
        "a = s.split()\n",
        "\n",
        "for i in a:\n",
        "  if i != \"hello\":\n",
        "    print(i)"
      ]
    },
    {
      "cell_type": "markdown",
      "source": [
        "2. \tДана символьная строка. Подсчитать количество букв k в последнем ее слове."
      ],
      "metadata": {
        "id": "xvwobq6pl14m"
      }
    },
    {
      "cell_type": "code",
      "source": [
        "s = \"hello koyog gm6o6 6k6kok fp5kp\"\n",
        "\n",
        "a = s.split()\n",
        "count = 0\n",
        "\n",
        "for i in range(len(a[-1])):\n",
        "  if a[-1][i] == \"k\":\n",
        "    count += 1;\n",
        "\n",
        "print(count)\n",
        "\n"
      ],
      "metadata": {
        "colab": {
          "base_uri": "https://localhost:8080/"
        },
        "id": "5lUG9ipcmb1M",
        "outputId": "85bc23f5-8a49-45aa-b1a5-b10ab8227dfa"
      },
      "execution_count": null,
      "outputs": [
        {
          "output_type": "stream",
          "name": "stdout",
          "text": [
            "1\n"
          ]
        }
      ]
    },
    {
      "cell_type": "markdown",
      "source": [
        "3.\tРезультаты вступительных экзаменов представлены в виде списка из N строк, в каждой строке которого записаны фамилия студента и отметки по каждому из М экзаменов. Определить количество абитуриентов, сдавших вступительные экзамены на «отлично»."
      ],
      "metadata": {
        "id": "dGk3Cxf6m5eg"
      }
    },
    {
      "cell_type": "code",
      "source": [
        "N = [\n",
        "    \"irdko mrdkdp 5 5 5\",\n",
        "    \"idork rjfo4 4 4 4\",\n",
        "    \"fjd4ko pdl4dp4l4p 3 4 5\"\n",
        "]\n",
        "\n",
        "A = [i.split() for i in N]\n",
        "\n",
        "for i in A:\n",
        "  if  int(i[2]) + int(i[3]) + int(i[4])  == 15:\n",
        "    print(i[:2], \"Отличник\")"
      ],
      "metadata": {
        "colab": {
          "base_uri": "https://localhost:8080/"
        },
        "id": "CXqM3DOznee4",
        "outputId": "2cacffc1-9b09-4640-d9e1-6aaebf962919"
      },
      "execution_count": null,
      "outputs": [
        {
          "output_type": "stream",
          "name": "stdout",
          "text": [
            "['irdko', 'mrdkdp'] Отличник\n"
          ]
        }
      ]
    },
    {
      "cell_type": "markdown",
      "source": [
        "РАБОТА С ФАЙЛАМИ"
      ],
      "metadata": {
        "id": "WLr55yTpIYZH"
      }
    },
    {
      "cell_type": "markdown",
      "source": [
        "1. Заполнить файл f целыми числами, полученными с помощью генератора случайных чисел. Найти количество удвоенных нечетных чисел среди компонент файла."
      ],
      "metadata": {
        "id": "CDzEL_mNId--"
      }
    },
    {
      "cell_type": "code",
      "source": [
        "from random import randint\n",
        "\n",
        "with open(\"data.txt\", \"w\") as output_file:\n",
        "    for _ in range(10):\n",
        "        output_file.write(str(randint(0, 100)) + ' ')\n",
        "\n",
        "even_odd_count = 0\n",
        "print(\"Случайные числа, записанные в файл:\")\n",
        "with open(\"data.txt\", \"r\") as input_file:\n",
        "    numbers = list(input_file.read().rstrip().split(' '))\n",
        "    for number in numbers:\n",
        "        print(number, end=' ')\n",
        "        if int(number) % 2 == 0 and (int(number) // 2) % 2 != 0:\n",
        "            even_odd_count += 1\n",
        "\n",
        "print()\n",
        "print(\"Количество удвоенных нечетных чисел = \", even_odd_count)\n"
      ],
      "metadata": {
        "id": "UuGd0N92Ign3",
        "outputId": "f3f88b6d-1259-4ebc-c8c0-3c3d9b3ad011",
        "colab": {
          "base_uri": "https://localhost:8080/"
        }
      },
      "execution_count": 1,
      "outputs": [
        {
          "output_type": "stream",
          "name": "stdout",
          "text": [
            "Случайные числа, записанные в файл:\n",
            "60 85 17 22 70 99 36 35 64 16 \n",
            "Количество удвоенных нечетных чисел =  2\n"
          ]
        }
      ]
    },
    {
      "cell_type": "markdown",
      "source": [
        "Дан файл Tovar, содержащий сведения об экспортируемых товарах: указывается наименование товара, страна, импортирующая товар, и объем поставляемой партии в штуках. Составить список стран, в которые экспортируется данный товар, и общий объем его экспорта."
      ],
      "metadata": {
        "id": "TpzrPd7BJTOl"
      }
    },
    {
      "cell_type": "code",
      "source": [
        "\n",
        "product_name = input(\"Наименование товара -> \")\n",
        "\n",
        "export_countries = []\n",
        "total_export = 0\n",
        "\n",
        "with open(\"tovar.txt\", \"r\") as file:\n",
        "    line = file.readline()\n",
        "    while line:\n",
        "        product_info = line.strip().split(\",\")\n",
        "        if product_info[0] == product_name:\n",
        "            export_countries.append(product_info[1])\n",
        "            total_export += int(product_info[2])\n",
        "        line = file.readline()\n",
        "\n",
        "print(\"Товар:\", product_name)\n",
        "print(\"Страны, в которые экспортируется товар:\", ', '.join(export_countries))\n",
        "print(\"Общий объем экспорта:\", total_export)\n"
      ],
      "metadata": {
        "id": "yqZk9VIfKFba",
        "outputId": "22a37717-24c5-4a61-b49b-ad4f8b429eff",
        "colab": {
          "base_uri": "https://localhost:8080/"
        }
      },
      "execution_count": 3,
      "outputs": [
        {
          "output_type": "stream",
          "name": "stdout",
          "text": [
            "Наименование товара -> Товар_1\n",
            "Товар: Товар_1\n",
            "Страны, в которые экспортируется товар:  Страна_1,  Страна_2,  Страна_3\n",
            "Общий объем экспорта: 350\n"
          ]
        }
      ]
    },
    {
      "cell_type": "markdown",
      "source": [
        "3. Дан файл, содержащий текст на русском языке и некоторые два слова. Определить, сколько раз они входят в текст и сколько раз они входят непосредственно друг за другом."
      ],
      "metadata": {
        "id": "5Eu6UcAtK7uO"
      }
    },
    {
      "cell_type": "code",
      "source": [
        "word1 = input(\"Введите первое слово: \")\n",
        "word2 = input(\"Введите второе слово: \")\n",
        "\n",
        "count_word1 = 0\n",
        "count_word2 = 0\n",
        "count_consecutive = 0\n",
        "\n",
        "with open(\"text.txt\", \"r\", encoding=\"utf-8\") as file:\n",
        "    text = file.read().lower()\n",
        "    count_word1 = text.count(word1.lower())\n",
        "    count_word2 = text.count(word2.lower())\n",
        "\n",
        "    consecutive_phrase = word1.lower() + ' ' + word2.lower()\n",
        "    count_consecutive = text.count(consecutive_phrase)\n",
        "\n",
        "print(f\"Слово '{word1}' встречается {count_word1} раз(а) в тексте.\")\n",
        "print(f\"Слово '{word2}' встречается {count_word2} раз(а) в тексте.\")\n",
        "print(f\"Слова '{word1}' и '{word2}' встречаются подряд {count_consecutive} раз(а).\")\n"
      ],
      "metadata": {
        "id": "9-5hZ25PK9co",
        "outputId": "f1db3760-4b4c-4f67-ab6c-8465c7a54f6e",
        "colab": {
          "base_uri": "https://localhost:8080/"
        }
      },
      "execution_count": 5,
      "outputs": [
        {
          "output_type": "stream",
          "name": "stdout",
          "text": [
            "Введите первое слово: Программирование\n",
            "Введите второе слово: это\n",
            "Слово 'Программирование' встречается 4 раз(а) в тексте.\n",
            "Слово 'это' встречается 3 раз(а) в тексте.\n",
            "Слова 'Программирование' и 'это' встречаются подряд 0 раз(а).\n"
          ]
        }
      ]
    }
  ]
}