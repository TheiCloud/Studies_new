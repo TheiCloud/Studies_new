{
  "nbformat": 4,
  "nbformat_minor": 0,
  "metadata": {
    "colab": {
      "provenance": [],
      "authorship_tag": "ABX9TyPoFLvsY63MG5rB785PRWtI",
      "include_colab_link": true
    },
    "kernelspec": {
      "name": "python3",
      "display_name": "Python 3"
    },
    "language_info": {
      "name": "python"
    }
  },
  "cells": [
    {
      "cell_type": "markdown",
      "metadata": {
        "id": "view-in-github",
        "colab_type": "text"
      },
      "source": [
        "<a href=\"https://colab.research.google.com/github/TheiCloud/Studies_new/blob/main/%D0%9F%D1%80%D0%B0%D0%BA%D1%82%D0%B8%D0%BA%D1%83%D0%BC_%D0%BF%D0%BE_%D1%81%D1%82%D1%80%D0%BE%D0%BA%D0%B0%D0%BC_%D0%92%D0%B0%D1%80%D0%B8%D0%B0%D0%BD%D1%8210_.ipynb\" target=\"_parent\"><img src=\"https://colab.research.google.com/assets/colab-badge.svg\" alt=\"Open In Colab\"/></a>"
      ]
    },
    {
      "cell_type": "markdown",
      "source": [
        "1.\tДана последовательность слов. Напечатать все слова, отличные от слова «hello”."
      ],
      "metadata": {
        "id": "Ii2jNDJnjljR"
      }
    },
    {
      "cell_type": "code",
      "execution_count": 1,
      "metadata": {
        "colab": {
          "base_uri": "https://localhost:8080/"
        },
        "id": "0mRHDYi2jgds",
        "outputId": "6adfcff0-f5fe-490b-8e77-67971c07076b"
      },
      "outputs": [
        {
          "output_type": "stream",
          "name": "stdout",
          "text": [
            "koyog\n",
            "gm6o6\n",
            "6k6kok\n",
            "fp5p\n"
          ]
        }
      ],
      "source": [
        "s = \"hello koyog gm6o6 6k6kok fp5p\"\n",
        "\n",
        "a = s.split()\n",
        "\n",
        "for i in a:\n",
        "  if i != \"hello\":\n",
        "    print(i)"
      ]
    },
    {
      "cell_type": "markdown",
      "source": [
        "2. \tДана символьная строка. Подсчитать количество букв k в последнем ее слове."
      ],
      "metadata": {
        "id": "xvwobq6pl14m"
      }
    },
    {
      "cell_type": "code",
      "source": [
        "s = \"hello koyog gm6o6 6k6kok fp5kp\"\n",
        "\n",
        "a = s.split()\n",
        "count = 0\n",
        "\n",
        "for i in range(len(a[-1])):\n",
        "  if a[-1][i] == \"k\":\n",
        "    count += 1;\n",
        "\n",
        "print(count)\n",
        "\n",
        ""
      ],
      "metadata": {
        "colab": {
          "base_uri": "https://localhost:8080/"
        },
        "id": "5lUG9ipcmb1M",
        "outputId": "85bc23f5-8a49-45aa-b1a5-b10ab8227dfa"
      },
      "execution_count": 3,
      "outputs": [
        {
          "output_type": "stream",
          "name": "stdout",
          "text": [
            "1\n"
          ]
        }
      ]
    },
    {
      "cell_type": "markdown",
      "source": [
        "3.\tРезультаты вступительных экзаменов представлены в виде списка из N строк, в каждой строке которого записаны фамилия студента и отметки по каждому из М экзаменов. Определить количество абитуриентов, сдавших вступительные экзамены на «отлично»."
      ],
      "metadata": {
        "id": "dGk3Cxf6m5eg"
      }
    },
    {
      "cell_type": "code",
      "source": [
        "N = [\n",
        "    \"irdko mrdkdp 5 5 5\",\n",
        "    \"idork rjfo4 4 4 4\",\n",
        "    \"fjd4ko pdl4dp4l4p 3 4 5\"\n",
        "]\n",
        "\n",
        "A = [i.split() for i in N]\n",
        "\n",
        "for i in A:\n",
        "  if  int(i[2]) + int(i[3]) + int(i[4])  == 15:\n",
        "    print(i[:2], \"Отличник\")"
      ],
      "metadata": {
        "colab": {
          "base_uri": "https://localhost:8080/"
        },
        "id": "CXqM3DOznee4",
        "outputId": "2cacffc1-9b09-4640-d9e1-6aaebf962919"
      },
      "execution_count": 16,
      "outputs": [
        {
          "output_type": "stream",
          "name": "stdout",
          "text": [
            "['irdko', 'mrdkdp'] Отличник\n"
          ]
        }
      ]
    }
  ]
}