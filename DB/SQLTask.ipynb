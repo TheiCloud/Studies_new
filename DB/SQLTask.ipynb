{
 "cells": [
  {
   "cell_type": "markdown",
   "id": "1eb851d3",
   "metadata": {},
   "source": [
    "1. Создание базы данных и таблиц\n",
    "Создайте базу данных library.db и таблицу books с полями:\n",
    "\n",
    "id (PRIMARY KEY, AUTOINCREMENT),\n",
    "title (TEXT, NOT NULL),\n",
    "author (TEXT, NOT NULL),\n",
    "year_published (INTEGER),\n",
    "genre (TEXT)."
   ]
  },
  {
   "cell_type": "code",
   "execution_count": 42,
   "id": "44fbc87b",
   "metadata": {},
   "outputs": [],
   "source": [
    "import sqlite3\n",
    "con = sqlite3.connect('library.db')\n",
    "cursor = con.cursor()\n",
    "\n",
    "create_table_query = \"\"\"\n",
    "CREATE TABLE IF NOT EXISTS books (\n",
    "    id INTEGER PRIMARY KEY AUTOINCREMENT,\n",
    "    title TEXT NOT NULL,\n",
    "    author TEXT NOT NULL,\n",
    "    year_published INTEGER,\n",
    "    genre TEXT\n",
    ")\n",
    "\"\"\"\n",
    "cursor.execute(create_table_query)\n",
    "con.commit()"
   ]
  },
  {
   "cell_type": "markdown",
   "id": "afb6747b",
   "metadata": {},
   "source": [
    "2. Вставка данных\n",
    "Добавьте в таблицу books следующие записи:\n",
    "\n",
    "\"The Great Gatsby\", автор: F. Scott Fitzgerald, год: 1925, жанр: Fiction.\n",
    "\"1984\", автор: George Orwell, год: 1949, жанр: Dystopian.\n",
    "\"To Kill a Mockingbird\", автор: Harper Lee, год: 1960, жанр: Classic."
   ]
  },
  {
   "cell_type": "code",
   "execution_count": 43,
   "id": "425ebb08",
   "metadata": {},
   "outputs": [],
   "source": [
    "insert_query = \"\"\"\n",
    "INSERT INTO books (title, author, year_published, genre)\n",
    "VALUES(?, ?, ?, ?)\n",
    "\"\"\"\n",
    "_books = [\n",
    "    (\"The Great Gatsby\", \"F. Scott Fitzgerald\",  1925, \"Fiction\"),\n",
    "    (\"To Kill a Mockingbird\", \"Harper Lee\", 1960, \"Classic\"),\n",
    "    (\"1984\", \"George Orwell\", 1949, \"Dystopian\")\n",
    "]\n",
    "\n",
    "cursor.executemany(insert_query, _books)\n",
    "\n",
    "con.commit()\n"
   ]
  },
  {
   "cell_type": "markdown",
   "id": "f72398c9",
   "metadata": {},
   "source": [
    "3. Выборка всех данных\n",
    "Напишите запрос, который выбирает все книги из таблицы books"
   ]
  },
  {
   "cell_type": "code",
   "execution_count": 23,
   "id": "142bf298",
   "metadata": {},
   "outputs": [
    {
     "name": "stdout",
     "output_type": "stream",
     "text": [
      "(1, 'The Great Gatsby', 'F. Scott Fitzgerald', 1925, 'Fiction')\n",
      "(2, 'To Kill a Mockingbird', 'Harper Lee', 1960, 'Classic')\n",
      "(3, '1984', 'George Orwell', 1949, 'Dystopian')\n"
     ]
    }
   ],
   "source": [
    "select_query = \"\"\"\n",
    "SELECT * FROM books\n",
    "\"\"\"\n",
    "cursor.execute(select_query)\n",
    "data = cursor.fetchall()\n",
    "for item in data:\n",
    "    print(item)"
   ]
  },
  {
   "cell_type": "markdown",
   "id": "e4a5876f",
   "metadata": {},
   "source": [
    "4. Фильтрация данных\n",
    "Выберите все книги, опубликованные после 1950 года.\n"
   ]
  },
  {
   "cell_type": "code",
   "execution_count": 44,
   "id": "001c9ac1",
   "metadata": {},
   "outputs": [
    {
     "name": "stdout",
     "output_type": "stream",
     "text": [
      "(2, 'To Kill a Mockingbird', 'Harper Lee', 1960, 'Classic')\n"
     ]
    }
   ],
   "source": [
    "select_query = \"\"\"\n",
    "SELECT * FROM books\n",
    "WHERE year_published > 1950\n",
    "\"\"\"\n",
    "cursor.execute(select_query)\n",
    "data = cursor.fetchall()\n",
    "for item in data:\n",
    "    print(item)"
   ]
  },
  {
   "cell_type": "markdown",
   "id": "e2cbbb13",
   "metadata": {},
   "source": [
    "5. Использование оператора LIKE\n",
    "Найдите все книги, название которых начинается с буквы \"T\"."
   ]
  },
  {
   "cell_type": "code",
   "execution_count": 45,
   "id": "14074205",
   "metadata": {},
   "outputs": [
    {
     "name": "stdout",
     "output_type": "stream",
     "text": [
      "(1, 'The Great Gatsby', 'F. Scott Fitzgerald', 1925, 'Fiction')\n",
      "(2, 'To Kill a Mockingbird', 'Harper Lee', 1960, 'Classic')\n"
     ]
    }
   ],
   "source": [
    "select_query = \"\"\"\n",
    "SELECT * FROM books \n",
    "WHERE title LIKE 'T%'\n",
    "\"\"\"\n",
    "cursor.execute(select_query)\n",
    "data = cursor.fetchall()\n",
    "for item in data:\n",
    "    print(item)"
   ]
  },
  {
   "cell_type": "markdown",
   "id": "94ff5399",
   "metadata": {},
   "source": [
    "6. Сортировка данных\n",
    "Отсортируйте книги по году публикации в порядке возрастания."
   ]
  },
  {
   "cell_type": "code",
   "execution_count": 46,
   "id": "145488db",
   "metadata": {},
   "outputs": [
    {
     "name": "stdout",
     "output_type": "stream",
     "text": [
      "(1, 'The Great Gatsby', 'F. Scott Fitzgerald', 1925, 'Fiction')\n",
      "(3, '1984', 'George Orwell', 1949, 'Dystopian')\n",
      "(2, 'To Kill a Mockingbird', 'Harper Lee', 1960, 'Classic')\n"
     ]
    }
   ],
   "source": [
    "select_query = \"\"\"\n",
    "SELECT * FROM books \n",
    "ORDER BY year_published ASC\n",
    "\"\"\"\n",
    "cursor.execute(select_query)\n",
    "data = cursor.fetchall()\n",
    "for item in data:\n",
    "    print(item)"
   ]
  },
  {
   "cell_type": "markdown",
   "id": "60506d36",
   "metadata": {},
   "source": [
    "7. Ограничение количества строк\n",
    "Выберите первые две книги из таблицы books, отсортированные по названию."
   ]
  },
  {
   "cell_type": "code",
   "execution_count": 47,
   "id": "dba75c09",
   "metadata": {},
   "outputs": [
    {
     "name": "stdout",
     "output_type": "stream",
     "text": [
      "(1, 'The Great Gatsby', 'F. Scott Fitzgerald', 1925, 'Fiction')\n",
      "(3, '1984', 'George Orwell', 1949, 'Dystopian')\n"
     ]
    }
   ],
   "source": [
    "select_query = \"\"\"\n",
    "SELECT * FROM books \n",
    "ORDER BY year_published ASC\n",
    "LIMIT 2\n",
    "\"\"\"\n",
    "cursor.execute(select_query)\n",
    "data = cursor.fetchall()\n",
    "for item in data:\n",
    "    print(item)"
   ]
  },
  {
   "cell_type": "markdown",
   "id": "91320c89",
   "metadata": {},
   "source": [
    "8. Агрегатные функции"
   ]
  },
  {
   "cell_type": "code",
   "execution_count": 48,
   "id": "042f2164",
   "metadata": {},
   "outputs": [
    {
     "name": "stdout",
     "output_type": "stream",
     "text": [
      "Всего книг: 3\n"
     ]
    }
   ],
   "source": [
    "select_query = \"\"\"\n",
    "SELECT COUNT(*) AS total_books FROM books\n",
    "\"\"\"\n",
    "cursor.execute(select_query)\n",
    "res = cursor.fetchone()\n",
    "print(f\"Всего книг: {res[0]}\")"
   ]
  },
  {
   "cell_type": "markdown",
   "id": "9ec710c4",
   "metadata": {},
   "source": [
    "9. Группировка данных\n",
    "Подсчитайте количество книг для каждого жанра."
   ]
  },
  {
   "cell_type": "code",
   "execution_count": 49,
   "id": "fe8144b1",
   "metadata": {},
   "outputs": [
    {
     "name": "stdout",
     "output_type": "stream",
     "text": [
      "Жанр: Classic, Кол-во: 1\n",
      "Жанр: Dystopian, Кол-во: 1\n",
      "Жанр: Fiction, Кол-во: 1\n"
     ]
    }
   ],
   "source": [
    "select_query = \"\"\"\n",
    "SELECT genre, COUNT(*) AS count\n",
    "FROM books\n",
    "GROUP BY genre \n",
    "\"\"\"\n",
    "cursor.execute(select_query)\n",
    "data = cursor.fetchall()\n",
    "for item in data:\n",
    "    print(f\"Жанр: {item[0]}, Кол-во: {item[1]}\")"
   ]
  },
  {
   "cell_type": "markdown",
   "id": "2a6a635e",
   "metadata": {},
   "source": [
    "10. Обновление данных\n",
    "Обновите год публикации книги \"1984\" на 1948."
   ]
  },
  {
   "cell_type": "code",
   "execution_count": 51,
   "id": "792179d0",
   "metadata": {},
   "outputs": [
    {
     "name": "stdout",
     "output_type": "stream",
     "text": [
      "(3, '1984', 'George Orwell', 1948, 'Dystopian')\n"
     ]
    }
   ],
   "source": [
    "update_query = \"\"\"\n",
    "UPDATE books\n",
    "SET year_published = 1948\n",
    "WHERE title = 1984\n",
    "\"\"\"\n",
    "cursor.execute(update_query)\n",
    "select_query = \"\"\"\n",
    "SELECT * FROM books\n",
    "WHERE title = 1984\n",
    "\"\"\"\n",
    "cursor.execute(select_query)\n",
    "data = cursor.fetchone()\n",
    "print(data)"
   ]
  },
  {
   "cell_type": "markdown",
   "id": "2891531e",
   "metadata": {},
   "source": [
    "11. Удаление данных\n",
    "Удалите книгу с названием \"The Great Gatsby\"."
   ]
  },
  {
   "cell_type": "code",
   "execution_count": 31,
   "id": "7fc95dcd",
   "metadata": {},
   "outputs": [
    {
     "name": "stdout",
     "output_type": "stream",
     "text": [
      "(2, 'To Kill a Mockingbird', 'Harper Lee', 1960, 'Classic')\n",
      "(3, '1984', 'George Orwell', 1948, 'Dystopian')\n"
     ]
    }
   ],
   "source": [
    "delete_query = \"\"\"\n",
    "DELETE FROM books\n",
    "WHERE title = 'The Great Gatsby'\n",
    "\"\"\"\n",
    "cursor.execute(delete_query)\n",
    "select_query = \"\"\"\n",
    "SELECT * FROM books\n",
    "\"\"\"\n",
    "cursor.execute(select_query)\n",
    "data = cursor.fetchall()\n",
    "for item in data:\n",
    "    print(item)"
   ]
  },
  {
   "cell_type": "markdown",
   "id": "8bb049d4",
   "metadata": {},
   "source": [
    "12. Создание индекса\n",
    "Создайте индекс для столбца author в таблице books."
   ]
  },
  {
   "cell_type": "code",
   "execution_count": 52,
   "id": "802e2684",
   "metadata": {},
   "outputs": [
    {
     "data": {
      "text/plain": [
       "<sqlite3.Cursor at 0x18b871819c0>"
      ]
     },
     "execution_count": 52,
     "metadata": {},
     "output_type": "execute_result"
    }
   ],
   "source": [
    "index_query = \"\"\"\n",
    "CREATE INDEX IF NOT EXISTS idx_books_author\n",
    "ON books (author);\n",
    "\"\"\"\n",
    "cursor.execute(index_query)"
   ]
  },
  {
   "cell_type": "markdown",
   "id": "3083066f",
   "metadata": {},
   "source": [
    "13. Проверка существования индекса\n",
    "Проверьте, существует ли индекс для столбца author."
   ]
  },
  {
   "cell_type": "code",
   "execution_count": 53,
   "id": "96e51ae5",
   "metadata": {},
   "outputs": [
    {
     "name": "stdout",
     "output_type": "stream",
     "text": [
      "Индекс 'idx_books_author' существует.\n"
     ]
    }
   ],
   "source": [
    "check_idx_query = \"\"\"\n",
    "SELECT name FROM sqlite_master WHERE type='index' AND name='idx_books_author'\n",
    "\"\"\"\n",
    "cursor.execute(check_idx_query)\n",
    "result = cursor.fetchone()\n",
    "if result:\n",
    "    print(f\"Индекс '{result[0]}' существует.\")\n",
    "else:\n",
    "    print(\"Индекс не существует.\")"
   ]
  },
  {
   "cell_type": "markdown",
   "id": "d0d9f3ff",
   "metadata": {},
   "source": [
    "14. Триггер для логирования\n",
    "Создайте триггер, который записывает изменения в таблицу logs при добавлении новой книги"
   ]
  },
  {
   "cell_type": "code",
   "execution_count": 54,
   "id": "dd4183f0",
   "metadata": {},
   "outputs": [
    {
     "name": "stdout",
     "output_type": "stream",
     "text": [
      "(1, 4, 'INSERT', '2025-06-11 16:46:08')\n"
     ]
    }
   ],
   "source": [
    "cursor.execute(\"\"\"\n",
    "CREATE TABLE IF NOT EXISTS logs (\n",
    "    id INTEGER PRIMARY KEY AUTOINCREMENT,\n",
    "    book_id INTEGER,\n",
    "    action TEXT,\n",
    "    timestamp DATETIME DEFAULT CURRENT_TIMESTAMP\n",
    ");\n",
    "\"\"\")\n",
    "\n",
    "create_trigger_query = \"\"\"\n",
    "CREATE TRIGGER IF NOT EXISTS log_books_changes\n",
    "AFTER INSERT ON books\n",
    "FOR EACH ROW\n",
    "BEGIN\n",
    "    INSERT INTO logs (book_id, action)\n",
    "    VALUES (NEW.id, 'INSERT');\n",
    "END;\n",
    "\"\"\"\n",
    "cursor.execute(create_trigger_query)\n",
    "\n",
    "insert_query = \"\"\"\n",
    "INSERT INTO books (title, author, year_published, genre)\n",
    "VALUES(?, ?, ?, ?)\n",
    "\"\"\"\n",
    "con.commit()\n",
    "cursor.execute(insert_query, (\"The Great Gatsby\", \"F. Scott Fitzgerald\",  1925, \"Fiction\"))\n",
    "\n",
    "cursor.execute(\"\"\"\n",
    "SELECT * FROM logs\n",
    "\"\"\")\n",
    "_logs = cursor.fetchall()\n",
    "for log in _logs:\n",
    "    print(log)"
   ]
  },
  {
   "cell_type": "markdown",
   "id": "acba6f39",
   "metadata": {},
   "source": [
    "15. Транзакции\n",
    "Создайте программу, которая выполняет следующие действия в рамках одной транзакции:\n",
    "\n",
    "Добавляет новую книгу.\n",
    "Обновляет год публикации другой книги.\n",
    "Отменяет изменения, если возникает ошибка."
   ]
  },
  {
   "cell_type": "code",
   "execution_count": 55,
   "id": "6b8b9f33",
   "metadata": {},
   "outputs": [
    {
     "name": "stdout",
     "output_type": "stream",
     "text": [
      "Ошибка: cannot start a transaction within a transaction. Изменения отменены.\n",
      "(1, 'The Great Gatsby', 'F. Scott Fitzgerald', 1925, 'Fiction')\n",
      "(2, 'To Kill a Mockingbird', 'Harper Lee', 1960, 'Classic')\n",
      "(3, '1984', 'George Orwell', 1948, 'Dystopian')\n"
     ]
    }
   ],
   "source": [
    "try:\n",
    "    cursor.execute('BEGIN TRANSACTION')\n",
    "    \n",
    "    cursor.execute(\"\"\"\n",
    "    INSERT INTO books (title, author, year_published, genre)\n",
    "    VALUES(?, ?, ?, ?);\n",
    "    \"\"\", (\"Brave New World\", \"Aldous Huxley\", 1932, \"Dystopian\"))\n",
    "\n",
    "    cursor.execute(\"\"\"\n",
    "    UPDATE books\n",
    "    SET year_published = 2005\n",
    "    WHERE title = 'To Kill a Mockingbird'\n",
    "    \"\"\")\n",
    "    con.commit()\n",
    "except sqlite3.Error as e:\n",
    "    con.rollback()\n",
    "    print(f\"Ошибка: {e}. Изменения отменены.\")\n",
    "\n",
    "cursor.execute(\"\"\"\n",
    "SELECT * FROM books\n",
    "\"\"\")\n",
    "data = cursor.fetchall()\n",
    "for item in data:\n",
    "    print(item)"
   ]
  },
  {
   "cell_type": "markdown",
   "id": "40723ab6",
   "metadata": {},
   "source": [
    "16. Пользовательская функция\n",
    "Создайте пользовательскую функцию на Python, которая вычисляет возраст книги (текущий год минус год публикации), и используйте её в SQL-запросе."
   ]
  },
  {
   "cell_type": "code",
   "execution_count": 56,
   "id": "a54d2d48",
   "metadata": {},
   "outputs": [
    {
     "name": "stdout",
     "output_type": "stream",
     "text": [
      "Книга: The Great Gatsby, год: 1925, возраст: 100\n",
      "Книга: To Kill a Mockingbird, год: 1960, возраст: 65\n",
      "Книга: 1984, год: 1948, возраст: 77\n"
     ]
    }
   ],
   "source": [
    "from datetime import datetime\n",
    "\n",
    "def calculate_age(year_published):\n",
    "    curr_year = datetime.now().year\n",
    "    return curr_year - year_published\n",
    "\n",
    "con.create_function(\"book_age\", 1, calculate_age)\n",
    "\n",
    "cursor.execute('''\n",
    "SELECT title, year_published, book_age(year_published)\n",
    "FROM books\n",
    "''')\n",
    "for row in cursor.fetchall():\n",
    "    print(f\"Книга: {row[0]}, год: {row[1]}, возраст: {row[2]}\")"
   ]
  },
  {
   "cell_type": "markdown",
   "id": "3069fc3a",
   "metadata": {},
   "source": [
    "17. Представления\n",
    "Создайте представление modern_books, которое содержит книги, опубликованные после 1950 года."
   ]
  },
  {
   "cell_type": "code",
   "execution_count": 37,
   "id": "327955f1",
   "metadata": {},
   "outputs": [
    {
     "name": "stdout",
     "output_type": "stream",
     "text": [
      "(2, 'To Kill a Mockingbird', 'Harper Lee', 1960, 'Classic')\n"
     ]
    }
   ],
   "source": [
    "cursor.execute('''\n",
    "CREATE VIEW IF NOT EXISTS modern_books AS\n",
    "SELECT * FROM books WHERE year_published > 1950\n",
    "''')\n",
    "con.commit()\n",
    "\n",
    "cursor.execute('SELECT * FROM modern_books')\n",
    "modern_books = cursor.fetchall()\n",
    "\n",
    "\n",
    "for book in modern_books:\n",
    "    print(book)"
   ]
  },
  {
   "cell_type": "markdown",
   "id": "d423ade4",
   "metadata": {},
   "source": [
    "18. Удаление таблицы\n",
    "Удалите таблицу books и проверьте её существование"
   ]
  },
  {
   "cell_type": "code",
   "execution_count": 57,
   "id": "14db9044",
   "metadata": {},
   "outputs": [
    {
     "name": "stdout",
     "output_type": "stream",
     "text": [
      "Таблицы не существует\n"
     ]
    }
   ],
   "source": [
    "cursor.execute('DROP TABLE IF EXISTS books')\n",
    "\n",
    "select_query = \"\"\"\n",
    "SELECT * FROM books\n",
    "\"\"\"\n",
    "\n",
    "try:\n",
    "    data = cursor.execute(select_query)\n",
    "    for item in data:\n",
    "        print(item)\n",
    "except Exception:\n",
    "    print(\"Таблицы не существует\")\n",
    "\n",
    "con.close()"
   ]
  },
  {
   "cell_type": "markdown",
   "id": "d86bd130",
   "metadata": {},
   "source": [
    "19. Композитный индекс\n",
    "Создайте композитный индекс для столбцов author и year_published в таблице books."
   ]
  },
  {
   "cell_type": "code",
   "execution_count": null,
   "id": "973544b9",
   "metadata": {},
   "outputs": [],
   "source": [
    "cursor.execute('''\n",
    "CREATE INDEX IF NOT EXISTS idx_author_year\n",
    "ON books (author, year_published)\n",
    "''')\n",
    "con.commit()\n",
    "con.close()"
   ]
  },
  {
   "cell_type": "markdown",
   "id": "8e43d512",
   "metadata": {},
   "source": [
    "20. Удаление базы данных\n",
    "Напишите программу, которая удаляет файл базы данных library.db, если он существует."
   ]
  },
  {
   "cell_type": "code",
   "execution_count": 58,
   "id": "a4940843",
   "metadata": {},
   "outputs": [
    {
     "name": "stdout",
     "output_type": "stream",
     "text": [
      "Удаляем базу данных 'library.db'...\n"
     ]
    }
   ],
   "source": [
    "import os\n",
    "\n",
    "db_file = 'library.db'\n",
    "\n",
    "if os.path.exists(db_file):\n",
    "    print(f\"Удаляем базу данных '{db_file}'...\")\n",
    "    os.remove(db_file)\n",
    "else:\n",
    "    print(f\"База данных '{db_file}' не существует.\")"
   ]
  }
 ],
 "metadata": {
  "kernelspec": {
   "display_name": "Python 3",
   "language": "python",
   "name": "python3"
  },
  "language_info": {
   "codemirror_mode": {
    "name": "ipython",
    "version": 3
   },
   "file_extension": ".py",
   "mimetype": "text/x-python",
   "name": "python",
   "nbconvert_exporter": "python",
   "pygments_lexer": "ipython3",
   "version": "3.13.3"
  }
 },
 "nbformat": 4,
 "nbformat_minor": 5
}
