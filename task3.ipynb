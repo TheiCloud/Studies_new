{
  "nbformat": 4,
  "nbformat_minor": 0,
  "metadata": {
    "colab": {
      "provenance": [],
      "authorship_tag": "ABX9TyMKjBga5MS2Mhcc6v7YqSOI",
      "include_colab_link": true
    },
    "kernelspec": {
      "name": "python3",
      "display_name": "Python 3"
    },
    "language_info": {
      "name": "python"
    }
  },
  "cells": [
    {
      "cell_type": "markdown",
      "metadata": {
        "id": "view-in-github",
        "colab_type": "text"
      },
      "source": [
        "<a href=\"https://colab.research.google.com/github/TheiCloud/Studies_new/blob/main/task3.ipynb\" target=\"_parent\"><img src=\"https://colab.research.google.com/assets/colab-badge.svg\" alt=\"Open In Colab\"/></a>"
      ]
    },
    {
      "cell_type": "markdown",
      "source": [
        " Двумерные массивы (матрицы): группа Matrix"
      ],
      "metadata": {
        "id": "BFqRiYYf8MoD"
      }
    },
    {
      "cell_type": "markdown",
      "source": [
        "ВАРИАНТ 10"
      ],
      "metadata": {
        "id": "jfgSlV9l8ZHx"
      }
    },
    {
      "cell_type": "markdown",
      "source": [
        "1.\tСколько элементов массива превосходят по модулю заданное число А.\n"
      ],
      "metadata": {
        "id": "7DQG7qWi8wgJ"
      }
    },
    {
      "cell_type": "code",
      "source": [
        "A = int(input(\"Enter A: \"))\n",
        "\n",
        "mas = [1,10, 6]\n",
        "\n",
        "def el_greater_value(mas):\n",
        "    i = 0\n",
        "    for e in mas:\n",
        "      if e > A:\n",
        "        i+=1\n",
        "    return i\n",
        "\n",
        "\n",
        "print(el_greater_value(mas))"
      ],
      "metadata": {
        "colab": {
          "base_uri": "https://localhost:8080/"
        },
        "id": "caOvIMGR8gx3",
        "outputId": "c28dfd81-b8f0-49de-949a-b282ed0e2f39"
      },
      "execution_count": null,
      "outputs": [
        {
          "output_type": "stream",
          "name": "stdout",
          "text": [
            "Enter A: 6\n",
            "1\n"
          ]
        }
      ]
    },
    {
      "cell_type": "markdown",
      "source": [
        "2.\tДан целочисленный массив размера N. Вывести вначале все содержащиеся в данном массиве четные числа в порядке возрастания их индексов, а затем — все нечетные числа в порядке убывания их индексов."
      ],
      "metadata": {
        "id": "OibxnDxD-Zhn"
      }
    },
    {
      "cell_type": "code",
      "source": [
        "mas = [333, 2,4,5,7,7,8,3,1,3,6,53,2,3]\n",
        "\n",
        "def show_mas_inverse(mas):\n",
        "  for i in range(len(mas)):\n",
        "    if mas[i] % 2 == 0: print(mas[i], end = \", \")\n",
        "  for i in range( len(mas)-1, -1, -1):\n",
        "    if mas[i] % 2 ==1:\n",
        "      if i == 0: print(mas[i])\n",
        "      else: print(mas[i], end = \", \")\n",
        "\n",
        "\n",
        "show_mas_inverse(mas)\n"
      ],
      "metadata": {
        "colab": {
          "base_uri": "https://localhost:8080/"
        },
        "id": "LqMLloNS-hK_",
        "outputId": "b546f4e1-3e1b-40ae-ec94-4cc440a960cd"
      },
      "execution_count": null,
      "outputs": [
        {
          "output_type": "stream",
          "name": "stdout",
          "text": [
            "2, 4, 8, 6, 2, 3, 53, 3, 1, 3, 7, 7, 5, 333\n"
          ]
        }
      ]
    },
    {
      "cell_type": "markdown",
      "source": [
        "3. Дан массив размера N и целое число K (1 <=K < N). Осуществить сдвиг элементов массива влево на K позиций (при этом AN перейдет в AN–K, AN–1 — в AN–K–1, …, AK+1 — в A1, а исходное значение K первых элементов будет потеряно). Последние K элементов полученного массива положить равными 0."
      ],
      "metadata": {
        "id": "QdL18rNaBRLU"
      }
    },
    {
      "cell_type": "code",
      "source": [
        "mas = [333, 2,4,5,7,7,8,3,1,3,6,53,2,3]\n",
        "\n",
        "def shift_mas(mas, value):\n",
        "  for i in range(len(mas)):\n",
        "    if i+value >=len(mas): mas[i] = 0\n",
        "    else: mas[i] = mas[i+value]\n",
        "\n",
        "shift_mas(mas, 5)\n",
        "print(mas)"
      ],
      "metadata": {
        "colab": {
          "base_uri": "https://localhost:8080/"
        },
        "id": "GZn3KzbhBX6k",
        "outputId": "cfb68d7f-53ff-49aa-dd45-795953969744"
      },
      "execution_count": null,
      "outputs": [
        {
          "output_type": "stream",
          "name": "stdout",
          "text": [
            "[7, 8, 3, 1, 3, 6, 53, 2, 3, 0, 0, 0, 0, 0]\n"
          ]
        }
      ]
    },
    {
      "cell_type": "markdown",
      "source": [
        "4.\tДан целочисленный двумерный массив, размерности n х m. Выяснить, в какой строке последовательность является возрастающей или убывающей"
      ],
      "metadata": {
        "id": "xxCC3-H5EmfY"
      }
    },
    {
      "cell_type": "code",
      "source": [
        "mas = [\n",
        "    [1, 3, 5, 67],\n",
        "    [2, 45, 46, 88],\n",
        "    [1, 4, 5, 3],\n",
        "    [90, 76, 22, 2]\n",
        "]\n",
        "\n",
        "def increasing_mas(mas):\n",
        "  for i in range(len(mas)-1):\n",
        "    if mas[i] > mas[i+1]:\n",
        "      return False\n",
        "  return True\n",
        "\n",
        "def decreasing_mas(mas):\n",
        "  for i in range(len(mas)-1):\n",
        "    if mas[i] < mas[i+1]:\n",
        "      return False\n",
        "  return True\n",
        "\n",
        "\n",
        "def trend_str(mas):\n",
        "  for i in range(len(mas)):\n",
        "    if increasing_mas(mas[i]) : print(f\"in line {i} the sequence is increasing\")\n",
        "    elif decreasing_mas(mas[i]) : print(f\"in line {i} the sequence is decreasing\")\n",
        "\n",
        "\n",
        "\n",
        "\n",
        "trend_str(mas)"
      ],
      "metadata": {
        "colab": {
          "base_uri": "https://localhost:8080/"
        },
        "id": "u7jct7kQFCM_",
        "outputId": "bd1b198a-6642-47c7-89bd-a759878eded2"
      },
      "execution_count": null,
      "outputs": [
        {
          "output_type": "stream",
          "name": "stdout",
          "text": [
            "in line 0 the sequence is increasing\n",
            "in line 1 the sequence is increasing\n",
            "in line 3 the sequence is decreasing\n"
          ]
        }
      ]
    },
    {
      "cell_type": "markdown",
      "source": [
        "DICTIONARIES"
      ],
      "metadata": {
        "id": "EfNibQ6h-Yde"
      }
    },
    {
      "cell_type": "markdown",
      "source": [
        "1. Подсчет частоты слов: Напишите функцию, которая принимает строку и возвращает словарь, где ключи — это слова, а значения — их частота в строке.\n"
      ],
      "metadata": {
        "id": "zeZIwShq-pc8"
      }
    },
    {
      "cell_type": "code",
      "source": [
        "row = \"yuie rjvir rniv irtnvoiro vorov rinov rinov nvro rniv rniv yuie\"\n",
        "\n",
        "def word_frequency(row):\n",
        "  dictionary = {};\n",
        "  list_of_words = row.split()\n",
        "  for i in list_of_words:\n",
        "    if i in dictionary:\n",
        "      dictionary[i] +=1\n",
        "    else:\n",
        "      dictionary[i] = 1\n",
        "  return dictionary\n",
        "\n",
        "print(word_frequency(row))\n"
      ],
      "metadata": {
        "colab": {
          "base_uri": "https://localhost:8080/"
        },
        "id": "G73YJw_d-_0X",
        "outputId": "054ac64b-f622-4ef1-f2ce-3dae7c655eba"
      },
      "execution_count": null,
      "outputs": [
        {
          "output_type": "stream",
          "name": "stdout",
          "text": [
            "{'yuie': 2, 'rjvir': 1, 'rniv': 3, 'irtnvoiro': 1, 'vorov': 1, 'rinov': 2, 'nvro': 1}\n"
          ]
        }
      ]
    },
    {
      "cell_type": "markdown",
      "source": [
        "2. Инвертирование словаря: Напишите функцию, которая принимает словарь и возвращает новый словарь, где ключи и значения поменяны местами. Если значения не уникальны, объедините ключи в список."
      ],
      "metadata": {
        "id": "YU800CzcEcxY"
      }
    },
    {
      "cell_type": "code",
      "source": [
        "dictionary = {\"lenght\": 23, \"width\" :23, \"height\" : 40, \"rnuricjri\" : 23}\n",
        "\n",
        "\n",
        "def swapkeys(dictt):\n",
        "  new_dict = {}\n",
        "  for key, value in dictt.items():\n",
        "    if value in new_dict:\n",
        "      if type(new_dict[value]) == list:\n",
        "        new_dict[value].append(key)\n",
        "      else:\n",
        "        new_dict[value] = [new_dict[value], key]\n",
        "    else:\n",
        "      new_dict[value] = key\n",
        "  return new_dict\n",
        "\n",
        "print(swapkeys(dictionary))\n",
        "\n",
        "#Через подсчитку значений надр делать, и если больше двух то мы просто создаем массивчик"
      ],
      "metadata": {
        "colab": {
          "base_uri": "https://localhost:8080/"
        },
        "id": "ZG6psBiHEyfv",
        "outputId": "bbe14e45-0bb6-42b3-ec4a-990b551411ba"
      },
      "execution_count": null,
      "outputs": [
        {
          "output_type": "stream",
          "name": "stdout",
          "text": [
            "{23: ['lenght', 'width', 'rnuricjri'], 40: 'height'}\n"
          ]
        }
      ]
    },
    {
      "cell_type": "markdown",
      "source": [
        "3.Слияние словарей: Напишите функцию, которая принимает два словаря и возвращает новый словарь, содержащий все ключи из обоих словарей. Если ключи совпадают, значения должны быть суммированы."
      ],
      "metadata": {
        "id": "i8a_QxcEKDIm"
      }
    },
    {
      "cell_type": "code",
      "source": [
        "dict1 = {\"e\": 56, \"hr\": 78, \"gender\": \"man\", \"t\":67, \"fk\": False}\n",
        "dict2 = {\"e\": 75, \"hr\": 76, \"f\": True}\n",
        "\n",
        "def funct(dict1, dict2):\n",
        "  copy_dict1 = dict1.copy()\n",
        "  for key, value in dict2.items():\n",
        "    if key in copy_dict1:\n",
        "      copy_dict1[key]+=value\n",
        "    else:\n",
        "      copy_dict1[key] = value\n",
        "  return copy_dict1\n",
        "\n",
        "result = funct(dict1, dict2)\n",
        "print(result)\n"
      ],
      "metadata": {
        "colab": {
          "base_uri": "https://localhost:8080/"
        },
        "id": "8xlGRL-bKNVJ",
        "outputId": "f9c8819b-103d-42f0-e099-0f20a3777c15"
      },
      "execution_count": null,
      "outputs": [
        {
          "output_type": "stream",
          "name": "stdout",
          "text": [
            "{'e': 131, 'hr': 154, 'gender': 'man', 't': 67, 'fk': False, 'f': True}\n"
          ]
        }
      ]
    },
    {
      "cell_type": "markdown",
      "source": [
        "4. Фильтрация по значению: Напишите функцию, которая принимает словарь и пороговое значение, и возвращает новый словарь, содержащий только те пары ключ-значение, где значение больше порогового."
      ],
      "metadata": {
        "id": "DoIGoa3eRD16"
      }
    },
    {
      "cell_type": "code",
      "source": [
        "dict1 = {\"age\": 75, \"height\": 196, \"musculs, kg\": 70, \"weight\": 95 }\n",
        "threshold = int(input(\"Enter threshold value\"))\n",
        "\n",
        "def filter_by_value(diction, value):\n",
        "  new_dict = {}\n",
        "  for key, dvalue in diction.items():\n",
        "    if dvalue > value:\n",
        "      new_dict[key] = dvalue\n",
        "  return new_dict\n",
        "\n",
        "print(filter_by_value(dict1, threshold))"
      ],
      "metadata": {
        "colab": {
          "base_uri": "https://localhost:8080/"
        },
        "id": "uwqjgMYRRHnV",
        "outputId": "a12b9e46-59ad-4a71-93eb-3c2900038c5e"
      },
      "execution_count": null,
      "outputs": [
        {
          "output_type": "stream",
          "name": "stdout",
          "text": [
            "Enter threshold value90\n",
            "{'height': 196, 'weight': 95}\n"
          ]
        }
      ]
    },
    {
      "cell_type": "markdown",
      "source": [
        "5. Максимальное значение: Напишите функцию, которая находит ключ с максимальным значением в словаре."
      ],
      "metadata": {
        "id": "5y_xGSVhXYya"
      }
    },
    {
      "cell_type": "code",
      "source": [
        "dict1 = {\"age\": 75, \"height\": 196, \"musculs, kg\": 70, \"weight\": 95, \"best height\":196 }\n",
        "\n",
        "def key_max_value(dict):\n",
        "  keys = []\n",
        "  max_value = max(dict.values())\n",
        "  for key in dict:\n",
        "    if dict[key] == max_value:\n",
        "      keys.append(key)\n",
        "\n",
        "  return keys\n",
        "\n",
        "print(key_max_value(dict1))"
      ],
      "metadata": {
        "colab": {
          "base_uri": "https://localhost:8080/"
        },
        "id": "bRzp3UbEXksR",
        "outputId": "139e1a53-f4d6-44c9-aadb-05c6f08b64f8"
      },
      "execution_count": null,
      "outputs": [
        {
          "output_type": "stream",
          "name": "stdout",
          "text": [
            "['height', 'best height']\n"
          ]
        }
      ]
    },
    {
      "cell_type": "markdown",
      "source": [
        "6. Минимальное значение: Напишите функцию, которая находит ключ с минимальным значением в словаре."
      ],
      "metadata": {
        "id": "ksDGeFKwiyKp"
      }
    },
    {
      "cell_type": "code",
      "source": [
        "dict1 = {\"age\": 75, \"height\": 196, \"musculs, kg\": 70, \"weight\": 95, \"best height\":196 }\n",
        "\n",
        "def key_min_value(dict):\n",
        "  keys = []\n",
        "  min_value = min(dict.values())\n",
        "  for key in dict:\n",
        "    if dict[key] == min_value:\n",
        "      keys.append(key)\n",
        "\n",
        "  return keys\n",
        "\n",
        "print(key_min_value(dict1))"
      ],
      "metadata": {
        "colab": {
          "base_uri": "https://localhost:8080/"
        },
        "id": "8j611tMEi29v",
        "outputId": "3bdab995-97b6-4438-abca-bf21fab667ad"
      },
      "execution_count": null,
      "outputs": [
        {
          "output_type": "stream",
          "name": "stdout",
          "text": [
            "['musculs, kg']\n"
          ]
        }
      ]
    },
    {
      "cell_type": "markdown",
      "source": [
        "7. Удаление ключей: Напишите функцию, которая принимает словарь и список ключей, и удаляет из словаря все указанные ключи."
      ],
      "metadata": {
        "id": "m0X6Awp_jWsL"
      }
    },
    {
      "cell_type": "code",
      "source": [
        "dict1 = {\"age\": 75, \"height\": 196, \"musculs, kg\": 70, \"weight\": 95, \"best height\":196 }\n",
        "keys_for_del = [\"best height\", \"musculs, kg\"]\n",
        "\n",
        "def del_keys(dict, keys):\n",
        "  dict11 = dict.copy()\n",
        "  for key in keys:\n",
        "    if key in dict11:\n",
        "      del dict1[key]\n",
        "\n",
        "del_keys(dict1, keys_for_del)\n",
        "print(dict1)\n"
      ],
      "metadata": {
        "colab": {
          "base_uri": "https://localhost:8080/"
        },
        "id": "pmni5JvHjdZo",
        "outputId": "cebdd5b4-9c2c-4a6f-db2f-73cc239fa0db"
      },
      "execution_count": null,
      "outputs": [
        {
          "output_type": "stream",
          "name": "stdout",
          "text": [
            "{'age': 75, 'height': 196, 'weight': 95}\n"
          ]
        }
      ]
    },
    {
      "cell_type": "markdown",
      "source": [
        "8. Группировка по длине ключей: Напишите функцию, которая группирует ключи словаря по их длине и возвращает словарь, где ключи — это длины, а значения — списки ключей соответствующей длины.\n",
        "\n"
      ],
      "metadata": {
        "id": "_KWW_9qRk2TC"
      }
    },
    {
      "cell_type": "code",
      "source": [
        "dict1 = {\"age\": 75, \"height\": 196, \"musculs, kg\": 70, \"weight\": 95, \"best height\":196 }\n",
        "\n",
        "def grouping_by_len(dict):\n",
        "  new_dict = {}\n",
        "  for key, value in dict.items():\n",
        "    if value in new_dict:\n",
        "      if isinstance(new_dict[value], list):\n",
        "        new_dict[value].append(key)\n",
        "      else:\n",
        "        new_dict[value] = [new_dict[value], key]\n",
        "    else:\n",
        "      new_dict[value] = key\n",
        "  return new_dict\n",
        "\n",
        "print(grouping_by_len(dict1))\n"
      ],
      "metadata": {
        "colab": {
          "base_uri": "https://localhost:8080/"
        },
        "id": "LHkzrpi3lfPl",
        "outputId": "b95c3e47-6d9f-46ff-aa25-4e2bc1b023c8"
      },
      "execution_count": null,
      "outputs": [
        {
          "output_type": "stream",
          "name": "stdout",
          "text": [
            "{75: 'age', 196: ['height', 'best height'], 70: 'musculs, kg', 95: 'weight'}\n"
          ]
        }
      ]
    },
    {
      "cell_type": "markdown",
      "source": [
        "9. Поиск ключей по значению: Напишите функцию, которая принимает словарь и значение, и возвращает список всех ключей, связанных с этим значением."
      ],
      "metadata": {
        "id": "Ph0X_uCbpwBv"
      }
    },
    {
      "cell_type": "markdown",
      "source": [],
      "metadata": {
        "id": "wmm4UJXm-mbr"
      }
    },
    {
      "cell_type": "code",
      "source": [
        "dict1 = {\"age\": 75, \"height\": 196, \"musculs, kg\": 70, \"weight\": 95, \"best height\":196 }\n",
        "\n",
        "def search_key_by_value(dict, search_value):\n",
        "  keys = []\n",
        "  for key, value in dict.items():\n",
        "    if value == search_value:\n",
        "      keys.append(key)\n",
        "  return(keys)\n",
        "\n",
        "print(search_key_by_value(dict1, 196))"
      ],
      "metadata": {
        "colab": {
          "base_uri": "https://localhost:8080/"
        },
        "id": "fiIREQIyp4Wd",
        "outputId": "a4ff7b1f-cef0-4f50-ea18-f71bcfa705c0"
      },
      "execution_count": null,
      "outputs": [
        {
          "output_type": "stream",
          "name": "stdout",
          "text": [
            "['height', 'best height']\n"
          ]
        }
      ]
    },
    {
      "cell_type": "markdown",
      "source": [
        "10. Объединение значений: Напишите функцию, которая принимает два словаря и объединяет их значения в списки для каждого ключа."
      ],
      "metadata": {
        "id": "YUn0b_BrrvDe"
      }
    },
    {
      "cell_type": "code",
      "source": [
        "dict1 = {\"age\": 75, \"height\": 196, \"musculs, kg\": 70, \"weight\": 95, \"best height\":196 }\n",
        "dict2 = {\"age\": 45, \"height\": 176, \"musculs, kg\": 50, \"weight\": 76, \"best height\":178, \"good man\": False }\n",
        "\n",
        "def association_of_dict(dict1, dict2):\n",
        "  new_dict = dict1.copy()\n",
        "  for key, value in dict2.items():\n",
        "    if key in new_dict:\n",
        "      if isinstance(new_dict[key], list):\n",
        "        new_dict[key].append(value)\n",
        "      else:\n",
        "        new_dict[key] = [new_dict[key], value ]\n",
        "    else:\n",
        "      new_dict[key] = value\n",
        "\n",
        "  return new_dict\n",
        "\n",
        "print(association_of_dict(dict1, dict2))\n"
      ],
      "metadata": {
        "colab": {
          "base_uri": "https://localhost:8080/"
        },
        "id": "dVrMGmD2sBvw",
        "outputId": "4a2a00bd-5d35-4cd3-d49b-ca95ceef9720"
      },
      "execution_count": null,
      "outputs": [
        {
          "output_type": "stream",
          "name": "stdout",
          "text": [
            "{'age': [75, 45], 'height': [196, 176], 'musculs, kg': [70, 50], 'weight': [95, 76], 'best height': [196, 178], 'good man': False}\n"
          ]
        }
      ]
    },
    {
      "cell_type": "markdown",
      "source": [
        "SETS"
      ],
      "metadata": {
        "id": "MQetayviZVc0"
      }
    },
    {
      "cell_type": "markdown",
      "source": [
        "1.  Создание множества из списка: Напишите функцию, которая принимает список и возвращает множество, содержащее уникальные элементы списка."
      ],
      "metadata": {
        "id": "10Khu117Z2fr"
      }
    },
    {
      "cell_type": "code",
      "source": [
        "list_of_numbers = [2,5,6,7,5,3,2,2,5,7,4,4,44,4,6,7,4,1]\n",
        "\n",
        "def create_set(list1):\n",
        "  set_of_numbers = set(list1)\n",
        "  return set_of_numbers\n",
        "\n",
        "print(list_of_numbers)\n",
        "print(create_set(list_of_numbers))\n"
      ],
      "metadata": {
        "colab": {
          "base_uri": "https://localhost:8080/"
        },
        "id": "VdyIOnvuZ7Ub",
        "outputId": "bebc4f07-9e77-44d5-898e-c1f8eb6f54b5"
      },
      "execution_count": null,
      "outputs": [
        {
          "output_type": "stream",
          "name": "stdout",
          "text": [
            "[2, 5, 6, 7, 5, 3, 2, 2, 5, 7, 4, 4, 44, 4, 6, 7, 4, 1]\n",
            "{1, 2, 3, 4, 5, 6, 7, 44}\n"
          ]
        }
      ]
    },
    {
      "cell_type": "markdown",
      "source": [
        "2. Удаление дубликатов: Напишите функцию, которая удаляет дубликаты из списка с помощью множества и возвращает новый список."
      ],
      "metadata": {
        "id": "mjIKOV_CapY5"
      }
    },
    {
      "cell_type": "code",
      "source": [
        "list_of_numbers = [2,5,6,7,5,3,2,2,5,7,4,4,44,4,6,7,4,1]\n",
        "\n",
        "def remove_dubl(list1):\n",
        "  return list(set(list1))\n",
        "\n",
        "print(remove_dubl(list_of_numbers))"
      ],
      "metadata": {
        "colab": {
          "base_uri": "https://localhost:8080/"
        },
        "id": "7yVibZeoavoD",
        "outputId": "fc8e4f24-91f4-4816-f578-f4adc36275a9"
      },
      "execution_count": null,
      "outputs": [
        {
          "output_type": "stream",
          "name": "stdout",
          "text": [
            "[1, 2, 3, 4, 5, 6, 7, 44]\n"
          ]
        }
      ]
    },
    {
      "cell_type": "markdown",
      "source": [
        "3. Пересечение множеств: Напишите функцию, которая принимает два множества и возвращает их пересечение."
      ],
      "metadata": {
        "id": "JU9V4IfebOKe"
      }
    },
    {
      "cell_type": "code",
      "source": [
        "set1 = {1,2,3}\n",
        "set2 ={1,2,5}\n",
        "\n",
        "def intersection_of_sets(set1, set2):\n",
        "  return set1.intersection(set2)\n",
        "\n",
        "print(intersection_of_sets(set1,set2))"
      ],
      "metadata": {
        "colab": {
          "base_uri": "https://localhost:8080/"
        },
        "id": "-qdF3B0KbeBS",
        "outputId": "17f76b3e-e285-4082-f364-df40a74a7370"
      },
      "execution_count": null,
      "outputs": [
        {
          "output_type": "stream",
          "name": "stdout",
          "text": [
            "{1, 2}\n"
          ]
        }
      ]
    },
    {
      "cell_type": "markdown",
      "source": [
        "4. Объединение множеств: Напишите функцию, которая принимает два множества и возвращает их объединение."
      ],
      "metadata": {
        "id": "zobIhM5FcE8o"
      }
    },
    {
      "cell_type": "code",
      "source": [
        "set1 = {1,2,3}\n",
        "set2 ={1,2,5}\n",
        "\n",
        "def association_of_sets(set1, set2):\n",
        "  return set1.union(set2)\n",
        "\n",
        "print(association_of_sets(set1, set2))"
      ],
      "metadata": {
        "colab": {
          "base_uri": "https://localhost:8080/"
        },
        "id": "-D_Xy-0UcP0A",
        "outputId": "84cc125e-1f8d-49f0-944d-dff39337f2ca"
      },
      "execution_count": null,
      "outputs": [
        {
          "output_type": "stream",
          "name": "stdout",
          "text": [
            "{1, 2, 3, 5}\n"
          ]
        }
      ]
    },
    {
      "cell_type": "markdown",
      "source": [
        "5. Разность множеств: Напишите функцию, которая принимает два множества и возвращает разность первого множества и второго."
      ],
      "metadata": {
        "id": "1Y96_6fncwy-"
      }
    },
    {
      "cell_type": "code",
      "source": [
        "set1 = {1,2,3}\n",
        "set2 ={1,2,5}\n",
        "\n",
        "def difference_of_sets(set1, set2):\n",
        "  return set1.difference(set2)\n",
        "  # or we can use: return(set1 - set2)\n",
        "\n",
        "print(difference_of_sets(set1, set2))"
      ],
      "metadata": {
        "colab": {
          "base_uri": "https://localhost:8080/"
        },
        "id": "n7lQ1DZdc3OX",
        "outputId": "df0c456c-4050-4000-8fc0-762ab15c527c"
      },
      "execution_count": null,
      "outputs": [
        {
          "output_type": "stream",
          "name": "stdout",
          "text": [
            "{3}\n"
          ]
        }
      ]
    },
    {
      "cell_type": "markdown",
      "source": [
        "6. Симметрическая разность: Напишите функцию, которая принимает два множества и возвращает их симметрическую разность.\n"
      ],
      "metadata": {
        "id": "A1ZWoEwEdnRl"
      }
    },
    {
      "cell_type": "code",
      "source": [
        "set1 = {1,2,3}\n",
        "set2 ={1,2,5}\n",
        "\n",
        "def symmetric_difference_of_sets(set1, set2):\n",
        "  return set1.symmetric_difference(set2)\n",
        "  #or we can use: return (set1 ^ set2)\n",
        "\n",
        "\n",
        "print(symmetric_difference_of_sets(set1, set2))"
      ],
      "metadata": {
        "colab": {
          "base_uri": "https://localhost:8080/"
        },
        "id": "YzM8XuQDd_Xh",
        "outputId": "d14b47c5-0d3f-4d9e-de6e-81ec68e2f16e"
      },
      "execution_count": null,
      "outputs": [
        {
          "output_type": "stream",
          "name": "stdout",
          "text": [
            "{3, 5}\n"
          ]
        }
      ]
    },
    {
      "cell_type": "markdown",
      "source": [
        "7. Проверка подмножества: Напишите функцию, которая проверяет, является ли одно множество подмножеством другого."
      ],
      "metadata": {
        "id": "-c2UNq6oerO1"
      }
    },
    {
      "cell_type": "code",
      "source": [
        "set1 = {1,2,3,5}\n",
        "set2 ={1,2,5,3,7}\n",
        "\n",
        "def issubset_of_sets(set1, set2):\n",
        "  return set1.issubset(set2)\n",
        "\n",
        "print(issubset_of_sets(set1, set2))\n"
      ],
      "metadata": {
        "colab": {
          "base_uri": "https://localhost:8080/"
        },
        "id": "03wKKJvFe99T",
        "outputId": "8f49e232-bb41-42ac-997e-9be274926e7a"
      },
      "execution_count": null,
      "outputs": [
        {
          "output_type": "stream",
          "name": "stdout",
          "text": [
            "True\n"
          ]
        }
      ]
    },
    {
      "cell_type": "markdown",
      "source": [
        "8. Проверка надмножества: Напишите функцию, которая проверяет, является ли одно множество надмножеством другого."
      ],
      "metadata": {
        "id": "mw1dwkJ5fWXD"
      }
    },
    {
      "cell_type": "code",
      "source": [
        "set1 = {1,2,3,5,7,8,9,10}\n",
        "set2 ={1,2,5,3,7}\n",
        "\n",
        "def issuperset_of_sets(set1, set2):\n",
        "  return set1.issuperset(set2)\n",
        "\n",
        "print(issuperset_of_sets(set1, set2))"
      ],
      "metadata": {
        "colab": {
          "base_uri": "https://localhost:8080/"
        },
        "id": "J6ChBiuyfhRx",
        "outputId": "b32137b1-f376-4c7d-b759-d285542a4edb"
      },
      "execution_count": null,
      "outputs": [
        {
          "output_type": "stream",
          "name": "stdout",
          "text": [
            "True\n"
          ]
        }
      ]
    },
    {
      "cell_type": "markdown",
      "source": [
        "9. Добавление элементов: Напишите функцию, которая добавляет все элементы из списка в множество."
      ],
      "metadata": {
        "id": "eB8I1foVh8GA"
      }
    },
    {
      "cell_type": "code",
      "source": [
        "set1 = {1,2,3,5,7,8,9,10}\n",
        "list1 = [4, 12, 34, 1, 2]\n",
        "\n",
        "def add_elements(set1, list1):\n",
        "  return set(list(set1)+list1)\n",
        "\n",
        "print(add_elements(set1, list1))"
      ],
      "metadata": {
        "colab": {
          "base_uri": "https://localhost:8080/"
        },
        "id": "SOtsa0mMiLbu",
        "outputId": "35613770-7e0f-46dd-924e-c6e2ec267c40"
      },
      "execution_count": null,
      "outputs": [
        {
          "output_type": "stream",
          "name": "stdout",
          "text": [
            "{1, 2, 3, 4, 5, 34, 7, 8, 9, 10, 12}\n"
          ]
        }
      ]
    },
    {
      "cell_type": "markdown",
      "source": [
        "10. Удаление элементов: Напишите функцию, которая удаляет из множества все элементы, присутствующие в списке."
      ],
      "metadata": {
        "id": "v9Hv0rlciwPo"
      }
    },
    {
      "cell_type": "code",
      "source": [
        "set1 = {1,2,3,5,7,8,9,10}\n",
        "list1 = [4, 12, 34, 1, 2]\n",
        "\n",
        "def remove_elements(set1, list1):\n",
        "  return set1 - set(list1)\n",
        "\n",
        "print(remove_elements(set1, list1))\n",
        "\n"
      ],
      "metadata": {
        "colab": {
          "base_uri": "https://localhost:8080/"
        },
        "id": "oXadWPV2jA6O",
        "outputId": "55a4c16d-7c73-4cc0-b8b2-5b0be6d015b2"
      },
      "execution_count": null,
      "outputs": [
        {
          "output_type": "stream",
          "name": "stdout",
          "text": [
            "{3, 5, 7, 8, 9, 10}\n"
          ]
        }
      ]
    },
    {
      "cell_type": "markdown",
      "source": [
        "TUPLES"
      ],
      "metadata": {
        "id": "f5_A2Zr5jZU6"
      }
    },
    {
      "cell_type": "markdown",
      "source": [
        "1. Создание кортежа из списка: Напишите функцию, которая принимает список и возвращает кортеж, содержащий те же элементы."
      ],
      "metadata": {
        "id": "UhNFQAiNjeOc"
      }
    },
    {
      "cell_type": "code",
      "source": [
        "list1 = [4, 12, 34, 1, 2]\n",
        "\n",
        "def create_tuple(list1):\n",
        "  return tuple(list1)\n",
        "\n",
        "print(create_tuple(list1))"
      ],
      "metadata": {
        "colab": {
          "base_uri": "https://localhost:8080/"
        },
        "id": "bdIW4_HMlHjR",
        "outputId": "5c3f9f37-fb37-45e4-edf6-4465fd4adad3"
      },
      "execution_count": null,
      "outputs": [
        {
          "output_type": "stream",
          "name": "stdout",
          "text": [
            "(4, 12, 34, 1, 2)\n"
          ]
        }
      ]
    },
    {
      "cell_type": "markdown",
      "source": [
        "2. Объединение кортежей: Напишите функцию, которая принимает два кортежа и возвращает их объединение."
      ],
      "metadata": {
        "id": "oGZLNO4Kluwx"
      }
    },
    {
      "cell_type": "code",
      "source": [
        "tuple1 = (1,3)\n",
        "tuple2 = (3, 6)\n",
        "\n",
        "def association_of_tuples(tup1, tup2):\n",
        "  return tup1 + tup2\n",
        "\n",
        "print(association_of_tuples(tuple1, tuple2))\n"
      ],
      "metadata": {
        "colab": {
          "base_uri": "https://localhost:8080/"
        },
        "id": "YC0IsScnlxcH",
        "outputId": "69cc91a4-c108-40b5-d108-ead8a59dd291"
      },
      "execution_count": null,
      "outputs": [
        {
          "output_type": "stream",
          "name": "stdout",
          "text": [
            "(1, 3, 3, 6)\n"
          ]
        }
      ]
    },
    {
      "cell_type": "markdown",
      "source": [
        "3. Проверка на наличие элемента: Напишите функцию, которая проверяет, содержится ли заданный элемент в кортеже."
      ],
      "metadata": {
        "id": "f1DUUv0rmgJF"
      }
    },
    {
      "cell_type": "code",
      "source": [
        "tup1 = (1,2,3,4,5,6,7,8,9)\n",
        "\n",
        "def value_in_the_tuple(tup1, value):\n",
        "  return value in tup1\n",
        "\n",
        "print(value_in_the_tuple(tup1, 9))"
      ],
      "metadata": {
        "colab": {
          "base_uri": "https://localhost:8080/"
        },
        "id": "HK64LK6bmgn1",
        "outputId": "5595444c-b181-4a5a-ed65-320b51bdd684"
      },
      "execution_count": null,
      "outputs": [
        {
          "output_type": "stream",
          "name": "stdout",
          "text": [
            "True\n"
          ]
        }
      ]
    },
    {
      "cell_type": "markdown",
      "source": [
        "4. Индекс первого вхождения: Напишите функцию, которая находит индекс первого вхождения заданного элемента в кортеже."
      ],
      "metadata": {
        "id": "wwpgLk7WnB3t"
      }
    },
    {
      "cell_type": "code",
      "source": [
        "tup1 = (1,2,3,4,5,6,7,8,9)\n",
        "\n",
        "def get_first_index_for_value(tup1, value):\n",
        "  for i in range(len(tup1)):\n",
        "    if tup1[i] == value: return i\n",
        "  return False\n",
        "\n",
        "print(get_first_index_for_value(tup1, 1))"
      ],
      "metadata": {
        "colab": {
          "base_uri": "https://localhost:8080/"
        },
        "id": "laddjaMQoLpJ",
        "outputId": "28d4ffe6-7e58-4be4-8510-6dc8a37694cf"
      },
      "execution_count": null,
      "outputs": [
        {
          "output_type": "stream",
          "name": "stdout",
          "text": [
            "0\n"
          ]
        }
      ]
    },
    {
      "cell_type": "markdown",
      "source": [
        "5. Количество вхождений элемента: Напишите функцию, которая подсчитывает, сколько раз заданный элемент встречается в кортеже."
      ],
      "metadata": {
        "id": "rEXWGU4Fo6lx"
      }
    },
    {
      "cell_type": "code",
      "source": [
        "tup1 = (1,2,3,4,5,6,7,8,9,1)\n",
        "\n",
        "def get_count_for_value(tup1, value):\n",
        "  return tup1.count(value)\n",
        "\n",
        "print(get_count_for_value(tup1, 1))"
      ],
      "metadata": {
        "colab": {
          "base_uri": "https://localhost:8080/"
        },
        "id": "2Ps3rqDpo-ab",
        "outputId": "30a31484-44ce-4868-db91-196b2df3240e"
      },
      "execution_count": null,
      "outputs": [
        {
          "output_type": "stream",
          "name": "stdout",
          "text": [
            "2\n"
          ]
        }
      ]
    },
    {
      "cell_type": "markdown",
      "source": [
        "6. (9)Разбиение кортежа: Напишите функцию, которая разбивает кортеж на две части: первую половину и вторую половину."
      ],
      "metadata": {
        "id": "JA4XsfAGpRij"
      }
    },
    {
      "cell_type": "code",
      "source": [
        "tup1 = (1,2,3,4,5,6,7,8,9,)\n",
        "\n",
        "def split_tuple(tup1):\n",
        "  index = len(tup1)//2\n",
        "  return (list(tup1[:index]), list(tup1[index :]))\n",
        "\n",
        "print(split_tuple(tup1))"
      ],
      "metadata": {
        "colab": {
          "base_uri": "https://localhost:8080/"
        },
        "id": "hix2sXDXpcxL",
        "outputId": "a0318fc8-311f-4b01-a33e-c678822bf2d3"
      },
      "execution_count": null,
      "outputs": [
        {
          "output_type": "stream",
          "name": "stdout",
          "text": [
            "([1, 2, 3, 4], [5, 6, 7, 8, 9])\n"
          ]
        }
      ]
    },
    {
      "cell_type": "markdown",
      "source": [
        "7. (21)Вложенные кортежи: Напишите функцию, которая создает вложенный кортеж, где первый уровень — это буквы алфавита, а второй уровень — числа от 1 до 5.\n",
        "\n"
      ],
      "metadata": {
        "id": "Vkwh2ZgsqTn9"
      }
    },
    {
      "cell_type": "code",
      "source": [
        "def create_nested_tuple():\n",
        "    letters = tuple('abcdefghijklmnopqrstuvwxyz')\n",
        "    numbers = tuple(range(1, 6))\n",
        "    return tuple((letter, numbers) for letter in letters)\n",
        "\n",
        "nested_tuple = create_nested_tuple()\n",
        "print(nested_tuple[:10])"
      ],
      "metadata": {
        "colab": {
          "base_uri": "https://localhost:8080/"
        },
        "id": "-ZQxuDH7sXi2",
        "outputId": "65e40917-752c-4916-f886-45e00feda618"
      },
      "execution_count": null,
      "outputs": [
        {
          "output_type": "stream",
          "name": "stdout",
          "text": [
            "(('a', (1, 2, 3, 4, 5)), ('b', (1, 2, 3, 4, 5)), ('c', (1, 2, 3, 4, 5)), ('d', (1, 2, 3, 4, 5)), ('e', (1, 2, 3, 4, 5)), ('f', (1, 2, 3, 4, 5)), ('g', (1, 2, 3, 4, 5)), ('h', (1, 2, 3, 4, 5)), ('i', (1, 2, 3, 4, 5)), ('j', (1, 2, 3, 4, 5)))\n"
          ]
        }
      ]
    },
    {
      "cell_type": "markdown",
      "source": [
        "8. (22)Развертывание вложенного кортежа: Напишите функцию, которая разворачивает вложенный кортеж в плоский кортеж."
      ],
      "metadata": {
        "id": "-3LX5GsZt8dQ"
      }
    },
    {
      "cell_type": "code",
      "source": [
        "def flat_tuple(tupl):\n",
        "  a = []\n",
        "  for i in tupl:\n",
        "    if isinstance(i, tuple):\n",
        "      a.extend(flat_tuple(i))\n",
        "    else:\n",
        "      a.append(i)\n",
        "  return tuple(a)\n",
        "\n",
        "\n",
        "b = (1, 2, 3, (4, 5, (4,6,6), 6), 7 , (4,7))\n",
        "print(flat_tuple(b))"
      ],
      "metadata": {
        "colab": {
          "base_uri": "https://localhost:8080/"
        },
        "id": "GhfaA-N-uj6P",
        "outputId": "7a96f893-2ab5-4c5c-9282-16703706c8cb"
      },
      "execution_count": null,
      "outputs": [
        {
          "output_type": "stream",
          "name": "stdout",
          "text": [
            "(1, 2, 3, 4, 5, 4, 6, 6, 6, 7, 4, 7)\n"
          ]
        }
      ]
    },
    {
      "cell_type": "markdown",
      "source": [
        "9. Перевод кортежа в строку: Напишите функцию, которая преобразует кортеж строк в одну строку, объединяя их через пробел."
      ],
      "metadata": {
        "id": "SQNVFfdiwu3X"
      }
    },
    {
      "cell_type": "code",
      "source": [
        "def tuple_to_str(tupl):\n",
        "  return \" \".join(tupl)\n",
        "\n",
        "tup1= (\"leddd\", \"dedede ccc\", \"ed\")\n",
        "print(tuple_to_str(tup1))\n"
      ],
      "metadata": {
        "colab": {
          "base_uri": "https://localhost:8080/"
        },
        "id": "XAmFAPQqw4GW",
        "outputId": "53309cfb-19d2-4ac3-fe4b-446f027b4770"
      },
      "execution_count": null,
      "outputs": [
        {
          "output_type": "stream",
          "name": "stdout",
          "text": [
            "leddd dedede ccc ed\n"
          ]
        }
      ]
    },
    {
      "cell_type": "markdown",
      "source": [
        "10. (27)Кортеж с нечетными числами: Напишите функцию, которая создает кортеж, содержащий только нечетные числа из заданного диапазона."
      ],
      "metadata": {
        "id": "wPCquu7d02uU"
      }
    },
    {
      "cell_type": "code",
      "source": [
        "import math\n",
        "\n",
        "def simple_tuple(f, t):\n",
        "\n",
        "  def simple(value):\n",
        "    if value <= 1:\n",
        "      return False\n",
        "    if value == 2:\n",
        "      return True\n",
        "    for i in range(2, int(math.sqrt(value))+1):\n",
        "      if value % i == 0:\n",
        "        return False\n",
        "    return True\n",
        "\n",
        "  a = []\n",
        "  for i in range(f, t):\n",
        "    if simple(i):\n",
        "      a.append(i)\n",
        "  return tuple(a)\n",
        "\n",
        "\n",
        "print(simple_tuple(0,50))\n",
        "\n"
      ],
      "metadata": {
        "colab": {
          "base_uri": "https://localhost:8080/"
        },
        "id": "8haaqUgP24oL",
        "outputId": "2e57f7be-d17e-4921-a82a-d0fed9f00455"
      },
      "execution_count": null,
      "outputs": [
        {
          "output_type": "stream",
          "name": "stdout",
          "text": [
            "(2, 3, 5, 7, 11, 13, 17, 19, 23, 29, 31, 37, 41, 43, 47)\n"
          ]
        }
      ]
    }
  ]
}