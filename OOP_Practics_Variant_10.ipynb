{
  "nbformat": 4,
  "nbformat_minor": 0,
  "metadata": {
    "colab": {
      "provenance": [],
      "authorship_tag": "ABX9TyNRvVJo+LShPn5q/LkwBVzm",
      "include_colab_link": true
    },
    "kernelspec": {
      "name": "python3",
      "display_name": "Python 3"
    },
    "language_info": {
      "name": "python"
    }
  },
  "cells": [
    {
      "cell_type": "markdown",
      "metadata": {
        "id": "view-in-github",
        "colab_type": "text"
      },
      "source": [
        "<a href=\"https://colab.research.google.com/github/TheiCloud/Studies_new/blob/main/OOP_Practics_Variant_10.ipynb\" target=\"_parent\"><img src=\"https://colab.research.google.com/assets/colab-badge.svg\" alt=\"Open In Colab\"/></a>"
      ]
    },
    {
      "cell_type": "markdown",
      "source": [
        "Задача 10: Создайте класс Course с полями название курса, код курса и количество кредитов. Реализуйте методы update_credits(new_credits), который обновляет количество кредитов, и display_info(), который выводит информацию о курсе"
      ],
      "metadata": {
        "id": "eMYh1FsBbjrQ"
      }
    },
    {
      "cell_type": "code",
      "source": [
        "class Course:\n",
        "  def __init__(self, name, code, credits):\n",
        "    self.name = name\n",
        "    self.code  = code\n",
        "    self.credits = credits\n",
        "\n",
        "  def display_info(self):\n",
        "    print(f\"Название курса: {self.name} \\nКод курса: {self.code} \\nКоличество кредитов: {self.credits}\")\n",
        "\n",
        "  def update_credits(self, new_credits):\n",
        "    if new_credits > 0:\n",
        "      self.credits = new_credits\n",
        "      print(f\"Количество кредитов и изменено на {self.credits}\")\n",
        "    else:\n",
        "      print(\"Количество кредитов не может быть отрицательным\")\n",
        "\n",
        "\n",
        "my_Course = Course(\"Блокчейн с нуля\", 333, 60000)\n",
        "my_Course.update_credits(70000)\n",
        "my_Course.display_info();"
      ],
      "metadata": {
        "colab": {
          "base_uri": "https://localhost:8080/"
        },
        "id": "kuf4_9gXbtmH",
        "outputId": "6e7d0807-ded2-47c8-fb42-16589c99162e"
      },
      "execution_count": 24,
      "outputs": [
        {
          "output_type": "stream",
          "name": "stdout",
          "text": [
            "Количество кредитов и изменено на 70000\n",
            "Название курса: Блокчейн с нуля \n",
            "Код курса: 333 \n",
            "Количество кредитов: 70000\n"
          ]
        }
      ]
    },
    {
      "cell_type": "markdown",
      "source": [
        "Задача 10. Определите класс Course, который наследуется от класса Event. Класс Course должен добавлять поля код курса и количество кредитов, а также методы для обновления количества кредитов."
      ],
      "metadata": {
        "id": "_wrX9C58iCXm"
      }
    },
    {
      "cell_type": "code",
      "source": [
        "class Event:\n",
        "  def __init__(self, name):\n",
        "    self._name = name\n",
        "\n",
        "  def get_name(self):\n",
        "    return self._name\n",
        "\n",
        "  def set_name(self, _name):\n",
        "    self._name = _name\n",
        "\n",
        "\n",
        "class Course(Event):\n",
        "  def __init__(self, name, code, credits):\n",
        "    super().__init__(name)\n",
        "    self._code = code\n",
        "    self._credits = credits\n",
        "\n",
        "  @property\n",
        "  def credits(self):\n",
        "    return self._credits\n",
        "\n",
        "  @property\n",
        "  def code(self):\n",
        "    return self._code\n",
        "\n",
        "  @credits.setter\n",
        "  def credits(self, new_credits):\n",
        "    if new_credits > 0:\n",
        "      self._credits = new_credits\n",
        "    else:\n",
        "      print(\"Ошибка! Кредиты должны быть больше нуля\")\n",
        "\n",
        "\n",
        "my_course = Course(\"Блокчейн с нуля\", 333, 60000)\n",
        "my_course.credits = -19999\n",
        "print(my_course.credits)\n",
        "my_course.credits = 678908765\n",
        "print(my_course.credits)\n",
        "\n"
      ],
      "metadata": {
        "colab": {
          "base_uri": "https://localhost:8080/"
        },
        "id": "kOIBnVXNiFTN",
        "outputId": "76b6552e-4e3a-4573-e087-e610d41524d7"
      },
      "execution_count": 29,
      "outputs": [
        {
          "output_type": "stream",
          "name": "stdout",
          "text": [
            "Ошибка! Кредиты должны быть больше нуля\n",
            "60000\n",
            "678908765\n"
          ]
        }
      ]
    },
    {
      "cell_type": "markdown",
      "source": [
        "Задача 10. Создать класс Course, в котором поля courseName, courseCode и credits будут приватными. Реализовать методы для доступа и изменения количества кредитов с проверкой на допустимые значения.\n"
      ],
      "metadata": {
        "id": "Z8PcEXlEnnTJ"
      }
    },
    {
      "cell_type": "code",
      "source": [
        "class Course:\n",
        "  def __init__(self, name, code, credits):\n",
        "    self._name = name\n",
        "    self._code = code\n",
        "    self._credits = credits\n",
        "\n",
        "  @property\n",
        "  def name(self):\n",
        "    return self._name\n",
        "\n",
        "  @property\n",
        "  def code(self):\n",
        "    return self._code\n",
        "\n",
        "  @property\n",
        "  def credits(self):\n",
        "    return self._credits\n",
        "\n",
        "  @credits.setter\n",
        "  def credits(self, new_credits):\n",
        "    if new_credits > 0:\n",
        "      self._credits = new_credits\n",
        "    else:\n",
        "      print(\"ERROR\")\n",
        "\n",
        "my_project = Course(\"Blockchain\", 333, 33_000)\n",
        "my_project.credits = -56_789\n",
        "my_project.credits = 77_000\n",
        "print(my_project.credits)\n"
      ],
      "metadata": {
        "colab": {
          "base_uri": "https://localhost:8080/"
        },
        "id": "QEM1hiSToC46",
        "outputId": "c057701c-a2b6-4b39-b46f-5eb9c620c960"
      },
      "execution_count": 32,
      "outputs": [
        {
          "output_type": "stream",
          "name": "stdout",
          "text": [
            "ERROR\n",
            "77000\n"
          ]
        }
      ]
    },
    {
      "cell_type": "markdown",
      "source": [
        "Задача 10. Машина и топливный бак. Создайте класс `Машина`, содержащий топливный бак. В классе `Машина` должны быть методы для заправки. Класс `Топливный бак` должен иметь поля `емкость` и `уровень топлива`, а также метод для его наполнения. Топливный бак не может существовать отдельно от машины."
      ],
      "metadata": {
        "id": "RqH_OUahR33C"
      }
    },
    {
      "cell_type": "code",
      "source": [
        "class Car:\n",
        "\n",
        "  def __init__(self, model, volume):\n",
        "    self._model = model\n",
        "    self._tank = self.Tank(volume)\n",
        "\n",
        "  @property\n",
        "  def model(self):\n",
        "    return self._model\n",
        "\n",
        "  def refill(self, value):\n",
        "    self._tank.refill(value)\n",
        "\n",
        "\n",
        "  class Tank:\n",
        "    def __init__(self, volume = 50, level = 0):\n",
        "      self._volume = volume\n",
        "      self._level = level\n",
        "\n",
        "    @property\n",
        "    def volume(self):\n",
        "      return self._volume\n",
        "\n",
        "    @volume.setter\n",
        "    def volume(self, new_value):\n",
        "      if new_value > 5:\n",
        "        self._volume = new_value\n",
        "      else:\n",
        "        print(\"Значение для объема бака некорректно\")\n",
        "\n",
        "    @property\n",
        "    def level(self):\n",
        "      return self._level\n",
        "\n",
        "    def refill(self, value):\n",
        "      if (value + self._level) > self._volume:\n",
        "        print(\"Столько топлива не поместится, запрвка не состоится\")\n",
        "      elif value < 0:\n",
        "        print(\"Количество топлива не может быть отрицательным\")\n",
        "      else:\n",
        "        self._level += value\n",
        "        print(f\"Заправка на {value} литров прошла успешно\")\n",
        "\n",
        "\n",
        "my_car = Car(\"Lancer\", 55)\n",
        "my_car.refill(50)\n",
        "my_car.refill(50)\n",
        ""
      ],
      "metadata": {
        "colab": {
          "base_uri": "https://localhost:8080/"
        },
        "id": "Ga1bB7iER_eB",
        "outputId": "11a19a01-af29-40be-e32e-d83cb3054040"
      },
      "execution_count": 38,
      "outputs": [
        {
          "output_type": "stream",
          "name": "stdout",
          "text": [
            "Заправка на 50 литров прошла успешно\n",
            "Столько топлива не поместится, запрвка не состоится\n"
          ]
        }
      ]
    },
    {
      "cell_type": "markdown",
      "source": [
        "Задача 10. Лаборатория и оборудование. Создайте класс `Лаборатория`, в которой есть оборудование. У класса `Оборудование` есть поля `название` и `функция`. Оборудование может существовать вне лаборатории."
      ],
      "metadata": {
        "id": "Ih4drmI1bCAl"
      }
    },
    {
      "cell_type": "code",
      "source": [
        "class Laba:\n",
        "  def __init__(self, max_instruments):\n",
        "    self._max_instruments = max_instruments\n",
        "\n",
        "    for i in range(1, self._max_instruments+1):\n",
        "      #setattr(объект, 'имя_атрибута', значение)\n",
        "      setattr(self, f\"_insrument_{i}\", None)\n",
        "\n",
        "  def add_instrument(self, instrument, slot):\n",
        "        \"\"\"Добавляем инструмент в указанный слот\"\"\"\n",
        "        if 1 <= slot < self._max_instruments + 1:\n",
        "            setattr(self, f'_instrument_{slot}', instrument)\n",
        "        else:\n",
        "            print(f\"Ошибка: недопустимый слот {slot}\")\n",
        "\n",
        "  def show_instruments(self):\n",
        "    print(f\"Лаборатория (макс. {self._max_instruments} инструментов):\")\n",
        "    for i in range(1,self._max_instruments+1):\n",
        "      instrument = getattr(self, f'_instrument_{i}')\n",
        "      if instrument:\n",
        "        print(f\"Слот {i}: {instrument.name} ({instrument.weight} кг)\")\n",
        "      else:\n",
        "        print(f\"Слот {i}: пусто\")\n",
        "\n",
        "\n",
        "class Instr:\n",
        "  def __init__(self, name, weight, cost):\n",
        "    self._name = name\n",
        "    self._weight = weight\n",
        "    self._cost = cost\n",
        "\n",
        "  @property\n",
        "  def name(self):\n",
        "    return self._name\n",
        "\n",
        "  @property\n",
        "  def weight(self):\n",
        "    return self._weight\n",
        "\n",
        "  @property\n",
        "  def cost(self):\n",
        "    return self._cost\n",
        "\n",
        "\n",
        "axe = Instr(\"axe\", 5, 4)\n",
        "explosives = Instr(\"explosives\", 60, 80000)\n",
        "log = Instr(\"log\", 150, 60)\n",
        "\n",
        "laboratory = Laba(3)\n",
        "laboratory.add_instrument(axe, 1)\n",
        "laboratory.add_instrument(explosives, 2)\n",
        "laboratory.add_instrument(log, 3)\n",
        "laboratory.show_instruments()\n"
      ],
      "metadata": {
        "colab": {
          "base_uri": "https://localhost:8080/"
        },
        "id": "AY2i8-00bC6h",
        "outputId": "329df849-450f-4d9e-ac57-44a6b2932714"
      },
      "execution_count": 10,
      "outputs": [
        {
          "output_type": "stream",
          "name": "stdout",
          "text": [
            "Лаборатория (макс. 3 инструментов):\n",
            "Слот 1: axe (5 кг)\n",
            "Слот 2: explosives (60 кг)\n",
            "Слот 3: log (150 кг)\n"
          ]
        }
      ]
    },
    {
      "cell_type": "markdown",
      "source": [
        "Задача 10. Создать абстрактный класс Ticket с абстрактным методом calculatePrice(). Реализовать подклассы ConcertTicket и MovieTicket, которые реализуют метод calculatePrice()."
      ],
      "metadata": {
        "id": "6jdG4tcPd9zf"
      }
    },
    {
      "cell_type": "code",
      "source": [
        "import abc\n",
        "\n",
        "class Ticket(abc.ABC):\n",
        "  @abc.abstractmethod\n",
        "  def calculatePrice():\n",
        "    pass\n",
        "\n",
        "class ConcertTicket(Ticket):\n",
        "  def __init__(self, name, top):\n",
        "    self._name = name\n",
        "    self._top = top\n",
        "\n",
        "  @property\n",
        "  def name(self):\n",
        "    return self._name\n",
        "\n",
        "  def calculatePrice(self):\n",
        "    return 10000/self._top\n",
        "\n",
        "class MovieTicket(Ticket):\n",
        "  def __init__(self, name, top):\n",
        "    self._name = name\n",
        "    self._top = top\n",
        "\n",
        "  @property\n",
        "  def name(self):\n",
        "    return self._name\n",
        "\n",
        "  def calculatePrice(self):\n",
        "    return 50/self._top\n",
        "\n",
        "\n",
        "concert = ConcertTicket(\"Басков\", 1542 )\n",
        "print(f\"Цена на концерт {concert.name} равна {concert.calculatePrice()} $\")\n",
        "movie = MovieTicket(\"SNATCH\", 5)\n",
        "print(f\"Цена на фильм {movie.name} равна {movie.calculatePrice()} $\")\n",
        ""
      ],
      "metadata": {
        "colab": {
          "base_uri": "https://localhost:8080/"
        },
        "id": "8os46q-WeGUM",
        "outputId": "539d51fe-0f85-4178-b7fe-2cff0a0e7154"
      },
      "execution_count": 47,
      "outputs": [
        {
          "output_type": "stream",
          "name": "stdout",
          "text": [
            "Цена на концерт Басков равна 6.485084306095979 $\n",
            "Цена на фильм SNATCH равна 10.0 $\n"
          ]
        }
      ]
    },
    {
      "cell_type": "markdown",
      "source": [
        "Задача 10. Создать интерфейс ICourse, который содержит методы updateCredits(int credits) и getCourseInfo(). Создать класс Course, реализующий этот интерфейс. Класс должен содержать поля name, code и credits."
      ],
      "metadata": {
        "id": "3RkjuESagulb"
      }
    },
    {
      "cell_type": "code",
      "source": [
        "from abc import ABC, abstractmethod\n",
        "\n",
        "class ICource(ABC):\n",
        "  @abstractmethod\n",
        "  def updateCredits(self, credits):\n",
        "    pass\n",
        "\n",
        "  @abstractmethod\n",
        "  def getCourseInfo(self):\n",
        "    pass\n",
        "\n",
        "\n",
        "class Course(ICource):\n",
        "  def __init__(self, name, code, credits):\n",
        "    self._name = name\n",
        "    self._credits =credits\n",
        "    self._code = code\n",
        "\n",
        "  def updateCredits(self, credits):\n",
        "    if credits > 0:\n",
        "      self._credits = credits\n",
        "    else:\n",
        "      print(\"Credits должно быть положительным\")\n",
        "\n",
        "  def getCourseInfo(self):\n",
        "    print(f\"Название курса: {self._name}, стоимость курса: {self._credits} рублей\")\n",
        "\n",
        "\n",
        "\n",
        "my_project = Course(\"Blockchain\", 333, 33_000)\n",
        "my_project.getCourseInfo()"
      ],
      "metadata": {
        "colab": {
          "base_uri": "https://localhost:8080/"
        },
        "id": "rvO7Fi_AhGQ4",
        "outputId": "34e8aa86-68ee-4353-b565-1f47c014cd9a"
      },
      "execution_count": 49,
      "outputs": [
        {
          "output_type": "stream",
          "name": "stdout",
          "text": [
            "Название курса: Blockchain, стоимость курса: 33000 рублей\n"
          ]
        }
      ]
    },
    {
      "cell_type": "markdown",
      "source": [
        "Задача 10. В классе Course определите метод calculateFinalGrade(), который вычисляет итоговую оценку. Создайте подклассы OnlineCourse и OfflineCourse, которые будут переопределять этот метод для разных типов курсов"
      ],
      "metadata": {
        "id": "VL8D3Eeti6fY"
      }
    },
    {
      "cell_type": "code",
      "source": [
        "from abc import ABC, abstractmethod\n",
        "\n",
        "class Course(ABC):\n",
        "    def __init__(self, name, price, duration_hours):\n",
        "        self.name = name\n",
        "        self.price = price\n",
        "        self.duration_hours = duration_hours\n",
        "\n",
        "    @abstractmethod\n",
        "    def calculate_rating(self):\n",
        "        \"\"\"Рейтинг = цена / количество часов / 100\"\"\"\n",
        "        return self.price / self.duration_hours /100\n",
        "\n",
        "\n",
        "class OnlineCourse(Course):\n",
        "    def calculate_rating(self):\n",
        "        base_rating = super().calculate_rating()\n",
        "        return base_rating * 0.8  # Уменьшаем рейтинг на 20%\n",
        "\n",
        "\n",
        "class OfflineCourse(Course):\n",
        "    def calculate_rating(self):\n",
        "        base_rating = super().calculate_rating()\n",
        "        return base_rating * 1.2  # Увеличиваем рейтинг на 20%\n",
        "\n",
        "\n",
        "\n",
        "python_online = OnlineCourse(\"Python Online\", 10000, 40)\n",
        "print(f\"Рейтинг онлайн-курса: {python_online.calculate_rating():.1f}\")\n",
        "\n",
        "java_offline = OfflineCourse(\"Java Offline\", 15000, 30)\n",
        "print(f\"Рейтинг оффлайн-курса: {java_offline.calculate_rating():.1f}\")"
      ],
      "metadata": {
        "colab": {
          "base_uri": "https://localhost:8080/"
        },
        "id": "GTY79xjLjQbV",
        "outputId": "3e66432c-63c1-4675-8552-a9b4b84338e1"
      },
      "execution_count": 52,
      "outputs": [
        {
          "output_type": "stream",
          "name": "stdout",
          "text": [
            "Рейтинг онлайн-курса: 2.0\n",
            "Рейтинг оффлайн-курса: 6.0\n"
          ]
        }
      ]
    }
  ]
}